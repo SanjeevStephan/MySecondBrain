{
 "cells": [
  {
   "cell_type": "markdown",
   "id": "95a562a5-fb53-4a8c-8244-c66ea6c0db3f",
   "metadata": {},
   "source": [
    "# List"
   ]
  },
  {
   "cell_type": "markdown",
   "id": "8d2fdc3d-c0b1-429e-97a0-9d69fb611851",
   "metadata": {},
   "source": [
    "## Exercise - 1 | Reverse List\n",
    "Write a function that takes a list as input and returns the reversed list."
   ]
  },
  {
   "cell_type": "code",
   "execution_count": 6,
   "id": "82b78530-c1e4-4683-96ff-cab92b0665f0",
   "metadata": {},
   "outputs": [
    {
     "name": "stdout",
     "output_type": "stream",
     "text": [
      "[66, 34, 11, 24, 56, 1, 12, 3]\n"
     ]
    },
    {
     "data": {
      "text/plain": [
       "[66, 34, 11, 24, 56, 1, 12, 3]"
      ]
     },
     "execution_count": 6,
     "metadata": {},
     "output_type": "execute_result"
    }
   ],
   "source": [
    "def reverse_list(input_list):\n",
    "    this_list = input_list[::-1]\n",
    "    print(this_list)\n",
    "    return this_list\n",
    "\n",
    "initial_list = [3,12,1,56,24,11,34,66]\n",
    "\n",
    "reverse_list(initial_list)"
   ]
  },
  {
   "cell_type": "markdown",
   "id": "3aba1511-9bda-4f35-8955-a36ccf9dd3aa",
   "metadata": {},
   "source": [
    "### Sources\n",
    "- https://www.geeksforgeeks.org/python-reversing-list/\n",
    "- "
   ]
  },
  {
   "cell_type": "code",
   "execution_count": null,
   "id": "0d319bc3-bb4a-439a-8a66-49ae9e2e88a1",
   "metadata": {},
   "outputs": [],
   "source": []
  }
 ],
 "metadata": {
  "kernelspec": {
   "display_name": "Python 3 (ipykernel)",
   "language": "python",
   "name": "python3"
  },
  "language_info": {
   "codemirror_mode": {
    "name": "ipython",
    "version": 3
   },
   "file_extension": ".py",
   "mimetype": "text/x-python",
   "name": "python",
   "nbconvert_exporter": "python",
   "pygments_lexer": "ipython3",
   "version": "3.11.9"
  }
 },
 "nbformat": 4,
 "nbformat_minor": 5
}
