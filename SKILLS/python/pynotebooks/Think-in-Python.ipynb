{
 "cells": [
  {
   "cell_type": "markdown",
   "id": "d5f52e04-7dfb-46f7-af10-0440b2d4cbdb",
   "metadata": {
    "jp-MarkdownHeadingCollapsed": true
   },
   "source": [
    "# 1. The Way of the Program"
   ]
  },
  {
   "cell_type": "markdown",
   "id": "9e90fc0d-197b-48fc-be29-977ef4d2aadd",
   "metadata": {},
   "source": [
    "The goal of this notebook is to teach you to think like a computer scientist"
   ]
  },
  {
   "cell_type": "markdown",
   "id": "a6e07444-a33d-4df2-ae1c-3a9869d459e8",
   "metadata": {},
   "source": [
    "## The First Program\n",
    "Traditionally, the first program written in a new language is called Hello, World! because all it does is display the\n",
    "words, Hello, World! "
   ]
  },
  {
   "cell_type": "code",
   "execution_count": 1,
   "id": "c7f8f9dc-9a4f-40c6-af9d-034ef95bd669",
   "metadata": {},
   "outputs": [
    {
     "name": "stdout",
     "output_type": "stream",
     "text": [
      "Hello World\n"
     ]
    }
   ],
   "source": [
    "print(\"Hello World\")"
   ]
  },
  {
   "cell_type": "markdown",
   "id": "9bbea2cb-080b-44c8-bf85-9618a81704fa",
   "metadata": {},
   "source": [
    "### Comments\n",
    "As programs get bigger and more complicated, they get more difficult to read.\n",
    "often difficult to look at a piece of code and figure out what it is doing, or why <br/>\n",
    "For this reason, it is a good idea to add notes to your programs to explain in natural language what the program is doing.\n",
    "<br/>\n",
    "A comment in a computer program is text that is intended only for the human reader — it is completely ignored by\n",
    "the interpreter."
   ]
  },
  {
   "cell_type": "code",
   "execution_count": 3,
   "id": "88b29bed-b10e-427d-88cf-745ecf578f56",
   "metadata": {},
   "outputs": [
    {
     "name": "stdout",
     "output_type": "stream",
     "text": [
      "Hello, Python Programmers \n"
     ]
    }
   ],
   "source": [
    "# In Python, the # token starts a comment. The rest of the line is ignored\n",
    "# This is a demo program show off how elegant Python is!\n",
    "\n",
    "print(\"Hello, Python Programmers \")"
   ]
  },
  {
   "cell_type": "markdown",
   "id": "14fe8579-c60b-4bd7-9e31-ba2fafaa64f6",
   "metadata": {
    "jp-MarkdownHeadingCollapsed": true
   },
   "source": [
    "# 2. Variable, expression and statements"
   ]
  },
  {
   "cell_type": "markdown",
   "id": "4a6efc78-f629-44c6-8a55-e503807e1c90",
   "metadata": {
    "jp-MarkdownHeadingCollapsed": true
   },
   "source": [
    "## 2.1 Values and data types"
   ]
  },
  {
   "cell_type": "markdown",
   "id": "97e6c7a0-0230-4db4-b33c-1f104a48543a",
   "metadata": {},
   "source": [
    "A value is one of the fundamental things — like a letter or a number — that a program manipulates.\n",
    "These values are classified into different classes, or data types:\n",
    "1. `4` is an _integer_\n",
    "2. `\"Hello, World!\"` is a _string_ ( it contains a string of letters enclosed\n",
    "in quotation marks. )\n",
    "3. `2.9` such numbers with a decimal point belong to a class called float, because these numbers are represented in a format called floating-point.\n",
    "\n",
    "> Python has a function called type which can tell you, In case if you are not sure what class a value falls into"
   ]
  },
  {
   "cell_type": "code",
   "execution_count": 6,
   "id": "43a56d05-a7bd-421c-a0dc-c4545aef7900",
   "metadata": {},
   "outputs": [
    {
     "data": {
      "text/plain": [
       "str"
      ]
     },
     "execution_count": 6,
     "metadata": {},
     "output_type": "execute_result"
    }
   ],
   "source": [
    "# Function/Method of find out what class a value falls into\n",
    "type(\"Hello, World!\")"
   ]
  },
  {
   "cell_type": "code",
   "execution_count": 12,
   "id": "debc02ea-f3a8-4fe7-9020-cfae9f0691af",
   "metadata": {},
   "outputs": [
    {
     "name": "stdout",
     "output_type": "stream",
     "text": [
      "Value 'hello,world!' belongs to <class 'str'>\n",
      "Value 5 belongs to <class 'int'>\n",
      "Value 10.4 belongs to <class 'float'>\n",
      "Value True belongs to <class 'bool'>\n"
     ]
    }
   ],
   "source": [
    "string_value = 'hello,world!'\n",
    "integer_value= 5\n",
    "float_value  = 10.4\n",
    "boolean_value= True\n",
    "\n",
    "print(f\"Value '{string_value}' belongs to {type(string_value)}\")\n",
    "print(f\"Value {integer_value} belongs to {type(integer_value)}\")\n",
    "print(f\"Value {float_value} belongs to {type(float_value)}\")\n",
    "print(f\"Value {boolean_value} belongs to {type(boolean_value)}\")\n"
   ]
  },
  {
   "cell_type": "markdown",
   "id": "2a1b613a-3f18-4d46-83a7-b2fdabce0856",
   "metadata": {},
   "source": [
    "> Any value enclosed in quotation marks becomes strings whether they are numbers, float or any data-type.\n",
    "> Strings in Python can be enclosed in either single quotes `(')` or double quotes `(\")`, or three of each `(''' or \"\"\")`"
   ]
  },
  {
   "cell_type": "markdown",
   "id": "d13d5928-1622-4e60-87e9-d93a9077611c",
   "metadata": {
    "jp-MarkdownHeadingCollapsed": true
   },
   "source": [
    "## 2.2 Variables"
   ]
  },
  {
   "cell_type": "markdown",
   "id": "e83ce789-88fb-4ce6-bba6-8387497b6035",
   "metadata": {},
   "source": [
    "One of the most powerful features of a programming language is the ability to manipulate variables. A variable is a\n",
    "name that refers to a value. <br/>\n",
    "The assignment statement gives a value to a variable:"
   ]
  },
  {
   "cell_type": "code",
   "execution_count": 13,
   "id": "10a73de0-d6ed-4788-bb2e-728ba38d03f0",
   "metadata": {},
   "outputs": [],
   "source": [
    "## This example makes three assignments.\n",
    "message = \"What's up, Bro?\"\n",
    "number = 7\n",
    "pi = 3.14159"
   ]
  },
  {
   "cell_type": "markdown",
   "id": "ab2b06d5-ff8f-4487-bd58-5c898ecef516",
   "metadata": {},
   "source": [
    "The `assignment token`, `=`, should not be confused with equals, which uses the token `==`. <br/>The assignment statement binds a `name`, on the left-hand side of the operator, to a `value`, on the right-hand side."
   ]
  },
  {
   "cell_type": "markdown",
   "id": "ce5cd212-1f42-4fa4-95f4-d5a14e796280",
   "metadata": {},
   "source": [
    "Basically, an assignment is an\n",
    "order, and the equals operator can be read as a question mark.<br/> This is why you will get an error if you enter:"
   ]
  },
  {
   "cell_type": "code",
   "execution_count": 16,
   "id": "b0e03e6a-efd5-4421-a94b-22ec1ef977e9",
   "metadata": {},
   "outputs": [
    {
     "ename": "SyntaxError",
     "evalue": "cannot assign to literal here. Maybe you meant '==' instead of '='? (4036341392.py, line 1)",
     "output_type": "error",
     "traceback": [
      "\u001b[0;36m  Cell \u001b[0;32mIn[16], line 1\u001b[0;36m\u001b[0m\n\u001b[0;31m    17 = num\u001b[0m\n\u001b[0m    ^\u001b[0m\n\u001b[0;31mSyntaxError\u001b[0m\u001b[0;31m:\u001b[0m cannot assign to literal here. Maybe you meant '==' instead of '='?\n"
     ]
    }
   ],
   "source": [
    "17 = num"
   ]
  },
  {
   "cell_type": "markdown",
   "id": "1f8fa6db-fff6-48af-9dc1-9c5c04d72005",
   "metadata": {},
   "source": [
    "> Tip: When reading or writing code, say to yourself “n is assigned 17” or “n gets the value 17”. Don’t\n",
    "say “n equals 17”."
   ]
  },
  {
   "attachments": {
    "10e774c2-27d2-411f-8d36-7d96d215970f.png": {
     "image/png": "[encoded data removed]"
    }
   },
   "cell_type": "markdown",
   "id": "ae7c65d0-7488-4915-96c0-29b70039de7b",
   "metadata": {},
   "source": [
    "A common way to represent variables on paper is to write the name with an arrow pointing to the variable’s value.\n",
    "\n",
    "![image.png](attachment:10e774c2-27d2-411f-8d36-7d96d215970f.png)"
   ]
  },
  {
   "cell_type": "markdown",
   "id": "83c6150d-6afc-4d75-8449-d62b65efa1c3",
   "metadata": {},
   "source": [
    "If you ask the interpreter to evaluate a variable, it will produce the value that is currently linked to the variable:"
   ]
  },
  {
   "cell_type": "markdown",
   "id": "f9392270-72af-44da-be31-2d95aab80769",
   "metadata": {},
   "source": [
    "message"
   ]
  },
  {
   "cell_type": "markdown",
   "id": "d03e4c96-2870-4231-844d-12e237a9fe6a",
   "metadata": {},
   "source": [
    "> We use variables in a program to `“remember”` things, perhaps the current score at the football game. <br/>But variables are variable. This means they can change over time, just like the scoreboard at a football game.<br/> You can assign a value to\n",
    "a variable, and later assign a different value to the same variable.<br/> _(This is different from maths. In maths, if you give\n",
    "`‘x‘` the value 3, it cannot change to link to a different value half-way through your calculations!)_"
   ]
  },
  {
   "cell_type": "code",
   "execution_count": 22,
   "id": "4f302ee2-c382-4a6d-820b-530552a2fd32",
   "metadata": {},
   "outputs": [
    {
     "data": {
      "text/plain": [
       "'Monday'"
      ]
     },
     "execution_count": 22,
     "metadata": {},
     "output_type": "execute_result"
    }
   ],
   "source": [
    "# Example 2.2 | variables\n",
    "day = 'Monday'\n",
    "day"
   ]
  },
  {
   "cell_type": "code",
   "execution_count": 25,
   "id": "d5603807-84ea-4fb9-913e-c84fc86fcd1f",
   "metadata": {},
   "outputs": [
    {
     "data": {
      "text/plain": [
       "'Wednesday'"
      ]
     },
     "execution_count": 25,
     "metadata": {},
     "output_type": "execute_result"
    }
   ],
   "source": [
    "## let's change day='Monday' to another string 'Wednesday'\n",
    "day = 'Wednesday'\n",
    "day"
   ]
  },
  {
   "cell_type": "code",
   "execution_count": 26,
   "id": "ad380590-47a4-44ea-8b7d-2ffa9bbbaa09",
   "metadata": {},
   "outputs": [
    {
     "data": {
      "text/plain": [
       "22"
      ]
     },
     "execution_count": 26,
     "metadata": {},
     "output_type": "execute_result"
    }
   ],
   "source": [
    "## now, let's change the variable's value from string to integer\n",
    "day = 22\n",
    "day"
   ]
  },
  {
   "cell_type": "markdown",
   "id": "50af4994-ad0d-4c80-bc9e-64f1a3f346cf",
   "metadata": {},
   "source": [
    "> You’ll notice we changed the value of day three times, and on the third assignment we even made it refer to a value\n",
    "that was of a different `data-type`."
   ]
  },
  {
   "cell_type": "markdown",
   "id": "c8f7fcaf-dd64-4f27-ad0a-bab29c7f2c37",
   "metadata": {},
   "source": [
    "A great deal of programming is about having the computer remember things. for example..the number of missed calls on your\n",
    "phone, and then arranging to update or change the variable when you miss another call."
   ]
  },
  {
   "cell_type": "markdown",
   "id": "2c2838fd-a98e-4bcb-a1c4-71fc2d5a9431",
   "metadata": {
    "jp-MarkdownHeadingCollapsed": true
   },
   "source": [
    "## 2.3 Variable names and keywords"
   ]
  },
  {
   "cell_type": "markdown",
   "id": "75a6cbe4-9de1-40f7-8ab9-1de400427a5c",
   "metadata": {},
   "source": [
    "Programmers generally choose names for their variables that are meaningful to the human readers of the program —\n",
    "they help the programmer document, or remember, what the variable is used for."
   ]
  },
  {
   "cell_type": "code",
   "execution_count": 34,
   "id": "923d05da-5a7e-4352-b5d2-232dea1234dc",
   "metadata": {},
   "outputs": [
    {
     "name": "stdout",
     "output_type": "stream",
     "text": [
      " matchmaker = e(3.1415) * ray(10) ** 2\n",
      " result = 314.15000000000003\n",
      "-------------------------------\n",
      " radius = pi(3.1415) * radius(10) ** 2\n",
      " result = 314.15000000000003\n"
     ]
    }
   ],
   "source": [
    "## Not A meaningful names\n",
    "e = 3.1415\n",
    "ray = 10\n",
    "matchmaker = e * ray ** 2\n",
    "\n",
    "print(f\" matchmaker = e({e}) * ray({ray}) ** 2\")\n",
    "print(f\" result = {matchmaker}\")\n",
    "\n",
    "print(\"-------------------------------\")\n",
    "## A meaningful names\n",
    "pi = 3.1415\n",
    "radius = 10\n",
    "area = pi * radius ** 2\n",
    "print(f\" radius = pi({pi}) * radius({radius}) ** 2\")\n",
    "print(f\" result = {area}\")"
   ]
  },
  {
   "cell_type": "markdown",
   "id": "ff59ab41-fe99-4678-84cf-509072c56fb7",
   "metadata": {},
   "source": [
    "> The above two snippets do exactly the same thing, but the bottom one uses the right kind of variable names. <br/>For the\n",
    "computer there is no difference at all, but for a human, using the names and letters that are part of the conventional\n",
    "way of writing things make all the difference in the world. Using `e` instead of `pi` completely confuses people,\n",
    "while computers will just perform the calculation!"
   ]
  },
  {
   "cell_type": "markdown",
   "id": "d74cd4f1-28e3-4124-9ddf-f176b6b805ac",
   "metadata": {
    "jp-MarkdownHeadingCollapsed": true
   },
   "source": [
    "## 2.4 Statements"
   ]
  },
  {
   "cell_type": "markdown",
   "id": "ce463e0f-95d6-4945-9290-a7d421cd7c36",
   "metadata": {},
   "source": [
    "A statement is an instruction that the Python interpreter can execute. We have only seen the assignment statement so\n",
    "far. <br/>When you type a statement on the command line, Python executes it. Statements don’t produce any result."
   ]
  },
  {
   "cell_type": "markdown",
   "id": "0e848421-5d16-4707-a2fa-e0cd467d7f61",
   "metadata": {
    "jp-MarkdownHeadingCollapsed": true
   },
   "source": [
    "## 2.5 Evaluating expressions"
   ]
  },
  {
   "cell_type": "markdown",
   "id": "5ee8e2aa-e945-426d-81df-53479f46474d",
   "metadata": {},
   "source": [
    "An expression is a combination of values, variables, operators, and calls to functions. If you type an expression at the Python prompt, the interpreter evaluates it and displays the result:"
   ]
  },
  {
   "cell_type": "code",
   "execution_count": 38,
   "id": "dfdfb410-0aef-4c1b-b859-3e210f5b2511",
   "metadata": {},
   "outputs": [
    {
     "data": {
      "text/plain": [
       "2"
      ]
     },
     "execution_count": 38,
     "metadata": {},
     "output_type": "execute_result"
    }
   ],
   "source": [
    "## Example - 2.5.1 | Evaluating number\n",
    "1 + 1"
   ]
  },
  {
   "cell_type": "code",
   "execution_count": 40,
   "id": "f43c1371-2d9f-433c-a379-4efdfc0e50a0",
   "metadata": {},
   "outputs": [
    {
     "data": {
      "text/plain": [
       "5"
      ]
     },
     "execution_count": 40,
     "metadata": {},
     "output_type": "execute_result"
    }
   ],
   "source": [
    "## Example - 2.5.2 | Evaluating expressions\n",
    "len(\"hello\")"
   ]
  },
  {
   "cell_type": "markdown",
   "id": "72b8683e-de86-4920-94ab-b806258a80a6",
   "metadata": {},
   "source": [
    "> The _evaluation of an expression_ produces a value, which is why expressions can appear on the right hand side of\n",
    "assignment statements. A value all by itself is a simple expression, and so is a variable."
   ]
  },
  {
   "cell_type": "code",
   "execution_count": 44,
   "id": "88c684d1-910b-451f-9f6a-58519a4c285f",
   "metadata": {},
   "outputs": [
    {
     "name": "stdout",
     "output_type": "stream",
     "text": [
      "Value stored in variable 'x' : 3.14\n",
      "Total Length of 'hello' : 5\n"
     ]
    }
   ],
   "source": [
    "## Example - 2.5.2 | Evaluating expressions i.e variable = function(value) \n",
    "x = 3.14\n",
    "y = len(\"hello\")\n",
    "\n",
    "print(f\"Value stored in variable 'x' : {x}\")\n",
    "print(f\"Total Length of 'hello' : {y}\")"
   ]
  },
  {
   "cell_type": "markdown",
   "id": "2edfe196-ad32-4f33-bef6-c094183a1ccd",
   "metadata": {
    "jp-MarkdownHeadingCollapsed": true
   },
   "source": [
    "## 2.6 Operators and operands"
   ]
  },
  {
   "cell_type": "markdown",
   "id": "b89404d2-fcad-4383-9d58-673f84b98b45",
   "metadata": {},
   "source": [
    "Operators are special tokens that represent computations like addition, multiplication and division. The values the\n",
    "operator uses are called operands."
   ]
  },
  {
   "cell_type": "markdown",
   "id": "85cb5368-0d23-4bae-8441-b184e2b01008",
   "metadata": {},
   "source": [
    "The following are all legal Python expressions whose meaning is more or less clear:\n",
    "```python\n",
    "20+32 hour-1 hour*60+minute minute/60 5**2 (5+9)*(15-7)\n",
    "```\n"
   ]
  },
  {
   "cell_type": "markdown",
   "id": "3e797e75-a6e4-457c-8064-10612a564b70",
   "metadata": {},
   "source": [
    "> the tokens `+, -, and *,` and the use of parenthesis for grouping, mean in Python what they mean in mathematics. The\n",
    "asterisk `(*)` is the token for multiplication, and `**` is the token for exponentiation."
   ]
  },
  {
   "cell_type": "markdown",
   "id": "ed271918-3834-4d06-ae78-72462c7553c1",
   "metadata": {},
   "source": [
    "When a variable name appears in the place of an operand, it is replaced with its value before the operation is performed"
   ]
  },
  {
   "cell_type": "code",
   "execution_count": 54,
   "id": "1bc0e838-cd3a-4ca5-a192-d8229793e8fc",
   "metadata": {},
   "outputs": [
    {
     "data": {
      "text/plain": [
       "10.75"
      ]
     },
     "execution_count": 54,
     "metadata": {},
     "output_type": "execute_result"
    }
   ],
   "source": [
    "# Example: so let us convert 645 minutes into hours\n",
    "minutes = 645\n",
    "hours = minutes / 60\n",
    "hours\n",
    "\n"
   ]
  },
  {
   "cell_type": "markdown",
   "id": "2b48fc92-9e11-468f-859f-068849240598",
   "metadata": {},
   "source": [
    "What If What we might have wanted to know was how many whole hours there are, and how many minutes remain for that Python gives us two different flavors of the\n",
    "division operator. "
   ]
  },
  {
   "cell_type": "markdown",
   "id": "875fac53-0243-437a-b4f1-a6229b2a5b42",
   "metadata": {},
   "source": [
    "| Divison Operator  | What does it do ?                           |\n",
    "| ---------------- | -------------------------------------------- |\n",
    "| /                | Always yields a floating point result.           |\n",
    "| //               | The second, called `floor division` results in a whole number                    |\n"
   ]
  },
  {
   "cell_type": "markdown",
   "id": "dba929b7-a473-4f39-a116-bf91e4b4e9c8",
   "metadata": {},
   "source": [
    "> Take care that you choose the correct flavor of the division operator. If you’re working with expressions where you\n",
    "need floating point values, use the division operator that does the division accurately."
   ]
  },
  {
   "cell_type": "markdown",
   "id": "e68531cf-501d-4c0a-98a1-530b29dcd7e1",
   "metadata": {
    "jp-MarkdownHeadingCollapsed": true
   },
   "source": [
    "## 2.7 Type converter function"
   ]
  },
  {
   "cell_type": "markdown",
   "id": "737622ca-59b3-4208-b027-eb3864cc3672",
   "metadata": {},
   "source": [
    "\n",
    "| Functions | Syntax              | What does it do ?                            |\n",
    "| --------- | ------------------- | -------------------------------------------- |\n",
    "| int     | `int('<arg>')` | The int function can take a floating point number or a string, and turn it into an int |\n",
    "| float      | `float(<arg>)`      |  For floating point numbers, it discards the decimal portion of the number — a process we call truncation towards zero on the number line    |\n",
    "| str       | `str(<arg>)`     | The type converter str turns its argument into a string enclosed with quotation marks |\n",
    "|           |                     |                                              |\n"
   ]
  },
  {
   "cell_type": "code",
   "execution_count": 73,
   "id": "50d999b0-65dc-464f-a4ab-fd3707aed1f9",
   "metadata": {},
   "outputs": [
    {
     "name": "stdout",
     "output_type": "stream",
     "text": [
      "This String('3') is of type : <class 'str'>\n",
      "Now Converted from String('3') to Integer(3)\n",
      "This Float/Decimal Number(3.9999) is of type : <class 'float'>\n",
      "Now Converted from Floating Decimal Number(3.9999) to Int(3)\n"
     ]
    }
   ],
   "source": [
    "## Example - 2.7.1 | Typer-Converter Functions\n",
    "# Case - 1 | String to Integer\n",
    "string_int = \"3\"     # This is an String enclosed with quotation mark\n",
    "print(f\"This String('{string_int}') is of type : {type(string_int)}\" )\n",
    "convert_from_str_to_int = int(string_int)\n",
    "print(f\"Now Converted from String('{string_int}') to Integer({convert_from_str_to_int})\")\n",
    "\n",
    "# Case - 2 | Float to Integer\n",
    "decimal_number = 3.9999\n",
    "print(f\"This Float/Decimal Number({decimal_number}) is of type : {type(decimal_number)}\")\n",
    "convert_from_float_to_integer = int(decimal_number)\n",
    "print(f\"Now Converted from Floating Decimal Number({decimal_number}) to Int({convert_from_float_to_integer})\")\n"
   ]
  },
  {
   "cell_type": "code",
   "execution_count": 76,
   "id": "7a0aa9bb-2767-4ff9-beac-6d184b333838",
   "metadata": {},
   "outputs": [
    {
     "name": "stdout",
     "output_type": "stream",
     "text": [
      "Now this 19 is converted to : 19\n",
      "Now this 123.45 is converted to: 123.45\n"
     ]
    }
   ],
   "source": [
    "# Case - 2 | Int or Float to String\n",
    "integer_num  = 19\n",
    "floating_num = 123.45\n",
    "\n",
    " \n",
    "convert_from_int_to_str   = str(integer_num)\n",
    "convert_from_float_to_str = str(floating_num)\n",
    "\n",
    "print(f\"Now this {integer_num} is converted to : \" + convert_from_int_to_str)\n",
    "print(f\"Now this {floating_num} is converted to: \" + convert_from_float_to_str)\n"
   ]
  },
  {
   "cell_type": "code",
   "execution_count": 82,
   "id": "4c83419d-e206-4d7c-bfca-3f42a3c3667f",
   "metadata": {},
   "outputs": [
    {
     "name": "stdout",
     "output_type": "stream",
     "text": [
      "String ( '54.321' ) --> Floating Number ( 54.321 ) \n",
      "Float ( '54.321' ) --> Integer Number ( 54 ) \n",
      "Integer ( 54 ) --> String ( '54' ) \n"
     ]
    }
   ],
   "source": [
    "# Case - 3 | String to Float -> From Float to Int \n",
    "# a. floating number presented as string ( str ) \n",
    "floating_num_as_string = \"54.321\"\n",
    "# b. Convert the string to floating number ( float ) \n",
    "convert_arg_to_floating_number = float(floating_num_as_string)\n",
    "# c. Now convert the floating number to integer ( int ) \n",
    "convert_arg_to_integer_number  = int(convert_arg_to_floating_number)\n",
    "# d. Now convert the integer back to string ( str )\n",
    "convert_arg_to_string          = str(convert_arg_to_integer_number)\n",
    "\n",
    "print(f\"String ( '{floating_num_as_string}' ) --> Floating Number ( {convert_arg_to_floating_number} ) \")\n",
    "print(f\"Float ( '{convert_arg_to_floating_number}' ) --> Integer Number ( {convert_arg_to_integer_number} ) \")\n",
    "print(f\"Integer ( {convert_arg_to_integer_number} ) --> String ( '{convert_arg_to_string}' ) \")\n"
   ]
  },
  {
   "cell_type": "markdown",
   "id": "435384bc-a67b-4ff8-8f62-21ec393379e7",
   "metadata": {},
   "source": [
    "## 2.8 Order of operations"
   ]
  },
  {
   "cell_type": "markdown",
   "id": "13c1f9d6-07d1-4a3a-839b-cf7d57c37cc5",
   "metadata": {},
   "source": [
    "When more than one operator appears in an expression, the order of evaluation depends on the rules of precedence.\n",
    "Python follows the same precedence rules for its mathematical operators that mathematics does. The acronym PEM-\n",
    "DAS is a useful way to remember the order of operations:"
   ]
  },
  {
   "cell_type": "markdown",
   "id": "5be8e718-36fe-4008-af69-fa789e5ba178",
   "metadata": {
    "jp-MarkdownHeadingCollapsed": true
   },
   "source": [
    "## 2.9 Operations on strings"
   ]
  },
  {
   "cell_type": "markdown",
   "id": "cefd8fed-95a1-47ad-a11e-6e08d9083cb6",
   "metadata": {},
   "source": [
    "In general, you cannot perform mathematical operations on strings, even if the strings look like numbers. The following\n",
    "are illegal (assuming that message has type string):"
   ]
  },
  {
   "cell_type": "code",
   "execution_count": 85,
   "id": "8cf61224-af53-4156-95eb-c7e29c753360",
   "metadata": {},
   "outputs": [
    {
     "ename": "TypeError",
     "evalue": "unsupported operand type(s) for -: 'str' and 'int'",
     "output_type": "error",
     "traceback": [
      "\u001b[0;31m---------------------------------------------------------------------------\u001b[0m",
      "\u001b[0;31mTypeError\u001b[0m                                 Traceback (most recent call last)",
      "Cell \u001b[0;32mIn[85], line 2\u001b[0m\n\u001b[1;32m      1\u001b[0m message \u001b[38;5;241m=\u001b[39m \u001b[38;5;124m\"\u001b[39m\u001b[38;5;124mYou cannot perform mathematical operations on strings \u001b[39m\u001b[38;5;124m\"\u001b[39m\n\u001b[0;32m----> 2\u001b[0m \u001b[38;5;28mprint\u001b[39m( \u001b[43mmessage\u001b[49m\u001b[43m \u001b[49m\u001b[38;5;241;43m-\u001b[39;49m\u001b[43m \u001b[49m\u001b[38;5;241;43m1\u001b[39;49m ) \n\u001b[1;32m      3\u001b[0m \u001b[38;5;28mprint\u001b[39m( \u001b[38;5;124m\"\u001b[39m\u001b[38;5;124mhello\u001b[39m\u001b[38;5;124m\"\u001b[39m \u001b[38;5;241m/\u001b[39m \u001b[38;5;241m123\u001b[39m )\n\u001b[1;32m      4\u001b[0m \u001b[38;5;28mprint\u001b[39m( message \u001b[38;5;241m*\u001b[39m \u001b[38;5;124m\"\u001b[39m\u001b[38;5;124mHello\u001b[39m\u001b[38;5;124m\"\u001b[39m )\n",
      "\u001b[0;31mTypeError\u001b[0m: unsupported operand type(s) for -: 'str' and 'int'"
     ]
    }
   ],
   "source": [
    "message = \"You cannot perform mathematical operations on strings \"\n",
    "print( message - 1 ) \n",
    "print( \"hello\" / 123 )\n",
    "print( message * \"Hello\" )\n",
    "print( \"15\" + 2 )"
   ]
  },
  {
   "cell_type": "markdown",
   "id": "fdbc1951-61b5-4c28-b218-6cd24c90effc",
   "metadata": {},
   "source": [
    "### 2.9.1 The ( + ) Operator with Strings"
   ]
  },
  {
   "cell_type": "markdown",
   "id": "df18c7b5-3aba-47fc-9534-a652fd8fbd2b",
   "metadata": {},
   "source": [
    "Interestingly, the + operator does work with strings, but for strings, the + operator represents concatenation, not addition. <br/>\n",
    "Concatenation means joining the two operands by linking them end-to-end. <br/> For example:"
   ]
  },
  {
   "cell_type": "code",
   "execution_count": 86,
   "id": "944f1d23-00eb-475b-b593-b11e3b0fa07a",
   "metadata": {},
   "outputs": [
    {
     "name": "stdout",
     "output_type": "stream",
     "text": [
      "banana nut bread\n"
     ]
    }
   ],
   "source": [
    "# ( + ) means Concatenation which is joining the two operands by linking them end-to-end\n",
    "fruit = \"banana\"\n",
    "baked_good = \"nut bread\"\n",
    "space = \" \" \n",
    "print(fruit + space + baked_good)"
   ]
  },
  {
   "cell_type": "markdown",
   "id": "bf449e9a-04fd-4ecb-b7c8-13794493ec44",
   "metadata": {},
   "source": [
    "> The space before the word nut is part of the string, and is\n",
    "necessary to produce the space between the concatenated strings"
   ]
  },
  {
   "cell_type": "markdown",
   "id": "ff8f4ebc-54f6-413a-bb5b-b3f5acc2a45b",
   "metadata": {},
   "source": [
    "### 2.9.2 The ( * ) Operator with Strings"
   ]
  },
  {
   "cell_type": "markdown",
   "id": "e440813e-faac-4a69-88a3-d4736f189859",
   "metadata": {},
   "source": [
    "The * operator also works on strings; it performs repetition. For example,"
   ]
  },
  {
   "cell_type": "code",
   "execution_count": 88,
   "id": "e5dc7dd5-fd78-44e2-af6d-6f9bbd7908eb",
   "metadata": {},
   "outputs": [
    {
     "data": {
      "text/plain": [
       "'FunFunFun'"
      ]
     },
     "execution_count": 88,
     "metadata": {},
     "output_type": "execute_result"
    }
   ],
   "source": [
    "'Fun' * 3"
   ]
  },
  {
   "cell_type": "markdown",
   "id": "841e1513-a884-462d-9a5e-234229eead50",
   "metadata": {},
   "source": [
    "> One of the operands has to be a string; the other has to be an integer."
   ]
  },
  {
   "cell_type": "markdown",
   "id": "fd9284bd-0390-464b-99a3-4324ee814afb",
   "metadata": {},
   "source": [
    "```javascript\n",
    "On one hand, this interpretation of + and * makes sense by analogy with addition and multiplication. Just as 4*3 is\n",
    "equivalent to 4+4+4, we expect \"Fun\"*3 to be the same as \"Fun\"+\"Fun\"+\"Fun\", and it is. On the other hand,\n",
    "    there is a significant way in which string concatenation and repetition are different from integer addition and multiplication.\n",
    "```"
   ]
  },
  {
   "cell_type": "markdown",
   "id": "aaf10caa-1e27-4b65-b337-7e990aaf915c",
   "metadata": {},
   "source": [
    "## 2.10 Input"
   ]
  },
  {
   "cell_type": "markdown",
   "id": "a134d9e8-b801-4e62-b875-cdbcddf74ec8",
   "metadata": {},
   "source": [
    "There is a built-in function in Python for getting input from the user:"
   ]
  },
  {
   "cell_type": "code",
   "execution_count": 89,
   "id": "56791b1b-6d0b-44b5-997d-35b7793f16e0",
   "metadata": {},
   "outputs": [
    {
     "name": "stdin",
     "output_type": "stream",
     "text": [
      "Please Enter Your Name :  Stephan\n"
     ]
    },
    {
     "name": "stdout",
     "output_type": "stream",
     "text": [
      "Hello, There ...Stephan ! How are you doing ?\n"
     ]
    }
   ],
   "source": [
    "name = input(\"Please Enter Your Name : \")\n",
    "print(f\"Hello, There ...{name} ! How are you doing ?\")"
   ]
  },
  {
   "cell_type": "markdown",
   "id": "6ebb714a-0d1b-4a98-9015-96ef5549b2c9",
   "metadata": {},
   "source": [
    "The user of the program can enter the name and click OK, and when this happens the text that has been entered is\n",
    "returned from the input function, and in this case assigned to the variable name"
   ]
  },
  {
   "cell_type": "markdown",
   "id": "724bb5b8-472e-4a8d-965f-28b25f54a8f6",
   "metadata": {},
   "source": [
    "> Even if you asked the user to enter their age, you would get back a string like \"17\". It would be your job, as the\n",
    "programmer, to convert that string into a int or a float, using the int or float converter functions we saw earlier"
   ]
  },
  {
   "cell_type": "markdown",
   "id": "e1ec01b8-0fc3-46f4-bd4b-ef52c4b50b0b",
   "metadata": {},
   "source": [
    "## 2.11 Composition"
   ]
  },
  {
   "cell_type": "markdown",
   "id": "449d6471-ef18-4dba-8964-5b775bcbe711",
   "metadata": {},
   "source": [
    "So far, we have looked at the elements of a program — variables, expressions, statements, and function calls — in\n",
    "isolation, without talking about how to combine them. <br/>\n",
    "\n",
    "One of the most useful features of programming languages is their ability to take small building blocks and compose them into larger chunks. <br/>\n"
   ]
  },
  {
   "cell_type": "markdown",
   "id": "e756be95-df38-43bc-aac1-721635a73e00",
   "metadata": {},
   "source": [
    "For example..we know \n",
    "1. How to get the user to enter some input\n",
    "2. how to convert the string we get into a float\n",
    "3. how to write a complex expression,\n",
    "4. how to print values\n",
    "\n",
    "Let’s put these together in a small four-step program that asks the user to input a value for the radius of a circle, and then computes the area of the circle from the formula"
   ]
  },
  {
   "attachments": {
    "fc2353ad-d5f5-496a-a062-c7b2ae84faf0.png": {
     "image/png": "[encoded data removed]"
    }
   },
   "cell_type": "markdown",
   "id": "75ece3dc-5743-4276-91ba-1384cfc08a6e",
   "metadata": {},
   "source": [
    "![image.png](attachment:fc2353ad-d5f5-496a-a062-c7b2ae84faf0.png)"
   ]
  },
  {
   "cell_type": "markdown",
   "id": "bcf0481a-a536-4f95-97d5-7d264e5a75f7",
   "metadata": {},
   "source": [
    "1. Firstly, we’ll do the four steps one at a time:"
   ]
  },
  {
   "cell_type": "code",
   "execution_count": 93,
   "id": "717c178b-9b31-45e4-90fd-c90c8be78878",
   "metadata": {},
   "outputs": [
    {
     "name": "stdin",
     "output_type": "stream",
     "text": [
      "Enter the value of Radius :  4\n"
     ]
    },
    {
     "name": "stdout",
     "output_type": "stream",
     "text": [
      "The Area is :  50.26544\n"
     ]
    }
   ],
   "source": [
    "response = input(\"Enter the value of Radius : \")\n",
    "r = float(response)\n",
    "area = 3.14159 * r ** 2\n",
    "print(\"The Area is : \", area)"
   ]
  },
  {
   "cell_type": "markdown",
   "id": "676e7ba3-8c52-41f9-a3ff-bebd64c0591f",
   "metadata": {},
   "source": [
    "2. Now let’s compose the first two lines into a single line of code, and compose the second two lines into another line of code"
   ]
  },
  {
   "cell_type": "code",
   "execution_count": 94,
   "id": "cf170ddd-ffcb-4581-92c0-27633b171c7a",
   "metadata": {},
   "outputs": [
    {
     "name": "stdin",
     "output_type": "stream",
     "text": [
      "Again, Enter the value of Radius :  4\n"
     ]
    },
    {
     "name": "stdout",
     "output_type": "stream",
     "text": [
      " The Area is :  50.26544\n"
     ]
    }
   ],
   "source": [
    "r = float( input ( \"Again, Enter the value of Radius : \")  )\n",
    "print( \" The Area is : \", 3.14159 * r ** 2 )"
   ]
  },
  {
   "cell_type": "markdown",
   "id": "042d31c2-dce1-4614-8def-84cf4d2d87ab",
   "metadata": {},
   "source": [
    "3. If we really wanted to be tricky, we could write it all in one statement:"
   ]
  },
  {
   "cell_type": "code",
   "execution_count": 95,
   "id": "27b9ab47-6f42-439c-b64a-79714db5a86a",
   "metadata": {},
   "outputs": [
    {
     "name": "stdin",
     "output_type": "stream",
     "text": [
      "What is your radius : 4\n"
     ]
    },
    {
     "name": "stdout",
     "output_type": "stream",
     "text": [
      "The area is  50.26544\n"
     ]
    }
   ],
   "source": [
    "print( \"The area is \", 3.14159 * float ( input ( \"What is your radius :\")) ** 2 )"
   ]
  },
  {
   "cell_type": "markdown",
   "id": "ac95efe4-6857-4e68-a35a-b280e214e44e",
   "metadata": {},
   "source": [
    "Such compact code may not be most understandable for humans, but it does illustrate how we can compose bigger\n",
    "chunks from our building blocks. <br/>\n",
    "\n",
    "If you’re ever in doubt about whether to compose code or fragment it into smaller steps,\n",
    "\n",
    "```javascript\n",
    "try to make it as simple as you can for the human to follow. My choice would be the first case above, with four separate steps. ```"
   ]
  },
  {
   "cell_type": "markdown",
   "id": "9cf5c122-32c4-4b71-aeaf-92449ec36569",
   "metadata": {},
   "source": [
    "## 2.12 The modulus operator"
   ]
  },
  {
   "cell_type": "markdown",
   "id": "b0e2a4b5-f403-41ab-b8d3-60fab19e254a",
   "metadata": {},
   "source": [
    "The modulus operator works on integers (and integer expressions) and gives the remainder when the first number is divided by the second. In Python, the modulus operator is a percent sign (%). <br/> The syntax is the same as for other operators. It has the same precedence as the multiplication operator"
   ]
  },
  {
   "cell_type": "code",
   "execution_count": 98,
   "id": "28347a18-6c45-42b3-bcbd-21018250b5dd",
   "metadata": {},
   "outputs": [
    {
     "name": "stdout",
     "output_type": "stream",
     "text": [
      "THe Reminder of  7 // 3 is 2 \n"
     ]
    }
   ],
   "source": [
    "q = 7 // 3 \n",
    "print(f\"THe Reminder of  7 // 3 is {q} \")"
   ]
  },
  {
   "cell_type": "markdown",
   "id": "01190abc-c94b-4218-9617-e46a9c1c8aff",
   "metadata": {},
   "source": [
    "> So 7 divided by 3 is 2 with a remainder of 1."
   ]
  },
  {
   "cell_type": "markdown",
   "id": "961ab4aa-feab-471e-b494-6bb2d2a622af",
   "metadata": {},
   "source": [
    "The modulus operator turns out to be surprisingly useful. For example, you can check whether one number is divisible\n",
    "by another—if x % y is zero, then x is divisible by y.\n",
    "Also, you can extract the right-most digit or digits from a number. For example, x % 10 yields the right-most digit\n",
    "of x (in base 10). Similarly x % 100 yields the last two digits"
   ]
  },
  {
   "cell_type": "markdown",
   "id": "48492c8d-5f3d-42ae-8e14-90e4a9370635",
   "metadata": {},
   "source": [
    "#### Program - 2.12 \n",
    "It is also extremely useful for doing conversions, say from seconds, to hours, minutes and seconds. So let’s write a\n",
    "program to ask the user to enter some seconds, and we’ll convert them into hours, minutes, and remaining seconds."
   ]
  },
  {
   "cell_type": "code",
   "execution_count": 101,
   "id": "3a945ee5-d62f-42f7-a6ea-1fe0522f27d2",
   "metadata": {},
   "outputs": [
    {
     "name": "stdin",
     "output_type": "stream",
     "text": [
      "How many seconds, in total? 6000\n"
     ]
    },
    {
     "name": "stdout",
     "output_type": "stream",
     "text": [
      "Hrs= 1  mins= 40 secs= 0\n"
     ]
    }
   ],
   "source": [
    "total_secs = int(input(\"How many seconds, in total?\"))\n",
    "hours = total_secs // 3600\n",
    "secs_still_remaining = total_secs % 3600\n",
    "minutes = secs_still_remaining // 60\n",
    "secs_finally_remaining = secs_still_remaining % 60\n",
    "\n",
    "print(\"Hrs=\", hours, \" mins=\", minutes, \"secs=\", secs_finally_remaining)"
   ]
  },
  {
   "cell_type": "markdown",
   "id": "5cf76c6c-b2b3-45d7-aef1-7d178e6db1bd",
   "metadata": {
    "jp-MarkdownHeadingCollapsed": true
   },
   "source": [
    "# 3. Program Flow"
   ]
  },
  {
   "cell_type": "code",
   "execution_count": 104,
   "id": "7efdb6e8-0da5-4295-ae97-c3ae2278cdbc",
   "metadata": {},
   "outputs": [],
   "source": [
    "import turtle\n",
    "window = turtle.Screen()\n",
    "window.bgcolor(\"lightgreen\")\n",
    "window.title(\"Hello Turtle\")\n",
    "window.mainloop()"
   ]
  },
  {
   "cell_type": "markdown",
   "id": "ab6ae1e6-fe38-44ad-9532-2923f2690e98",
   "metadata": {},
   "source": [
    "# 4. Functions"
   ]
  },
  {
   "cell_type": "markdown",
   "id": "f07e521d-9aca-4835-8658-0ceccc7bd297",
   "metadata": {},
   "source": [
    "The syntax for a function definition is\n",
    "```javascript\n",
    "def <NAME>( <PARAMETERS> ):\n",
    "<STATEMENTS>\n",
    "```\n",
    "A function can contain any number of statements inside it and the function is identified with the keyword `def` which uses the standard indentation of four spaces.\n",
    "Let's Recap\n",
    "1. A header line which begins with a `def` keyword and ends with a colon `:`\n",
    "2. A body consisting of one or more Python statements, each indented the same amount — the Python style guide recommends 4 spaces — from the header line.\n",
    "\n",
    "So looking again at the function definition, the keyword in the header is `def`, which is followed by the `<name>` of the function and some parameters enclosed in parentheses `( )`. The parameter list may be empty, or it may contain any number\n",
    "of parameters separated from one another by commas. In either case, the parentheses are required. <br/>\n",
    "The parameters specifies what information, if any, we have to provide in order to use the new function`(<parameters>)`.\n"
   ]
  },
  {
   "cell_type": "code",
   "execution_count": 8,
   "id": "718c933f-10f6-4d9c-beb9-22f4b1646c99",
   "metadata": {},
   "outputs": [],
   "source": [
    "import turtle\n",
    "\n",
    "def drawSquare(entity,size):\n",
    "    '''\n",
    "    Make the entity draw a square of length - size\n",
    "    '''\n",
    "    for _ in range(4):\n",
    "        entity.forward(size)\n",
    "        entity.left(90)\n",
    "\n",
    "window = turtle.Screen()\n",
    "window.bgcolor(\"lightgreen\")\n",
    "window.title(\"Stephan Meets a Function\")\n",
    "\n",
    "stephan = turtle.Turtle() # created an entity named 'stephan'\n",
    "drawSquare(stephan,100)   # Call the Function & passed some arguments to complete the square.\n",
    "window.mainloop()"
   ]
  },
  {
   "cell_type": "markdown",
   "id": "c379a542-151a-4e0c-932f-f63968bace5d",
   "metadata": {},
   "source": [
    "# 5. Data Types"
   ]
  },
  {
   "cell_type": "markdown",
   "id": "b41e4818-466b-4ca2-81d2-e60dc86e84f4",
   "metadata": {
    "jp-MarkdownHeadingCollapsed": true
   },
   "source": [
    "# 6. Numpy"
   ]
  },
  {
   "cell_type": "markdown",
   "id": "7a475205-0fa5-4799-824f-5f1093c49581",
   "metadata": {
    "jp-MarkdownHeadingCollapsed": true
   },
   "source": [
    "# 7. Files"
   ]
  },
  {
   "cell_type": "markdown",
   "id": "525c394a-912a-4f9f-92be-ad0a999c6938",
   "metadata": {
    "jp-MarkdownHeadingCollapsed": true
   },
   "source": [
    "## 7.1 About Files.\n",
    "Working with files is a lot like working with a notebook. \n",
    "1. To use a notebook, it has to be opened. When done, it has to be closed.\n",
    "2. While the notebook is open, it can either be read from or written to.\n",
    "3. In either case, the notebook holder knows where they are.\n",
    "4. They can read the whole notebook in its natural order or they can skip around.\n",
    "\n",
    "All of this applies to files as well. To open a file, we specify its name and indicate whether we want to read or write."
   ]
  },
  {
   "cell_type": "markdown",
   "id": "514dce1f-ded6-4475-b329-43e0b0281aaa",
   "metadata": {},
   "source": [
    "## 7.2 Writing our first file"
   ]
  },
  {
   "cell_type": "markdown",
   "id": "7bcd36af-e96f-4b47-a24c-47bd51d8840e",
   "metadata": {},
   "source": [
    "Let’s begin with a simple program that writes three lines of text into a file"
   ]
  },
  {
   "cell_type": "code",
   "execution_count": 134,
   "id": "75b9459f-552c-4045-9d63-dbb58408c12d",
   "metadata": {},
   "outputs": [],
   "source": [
    "### Simply, Create a New File \n",
    "check_for_this_file = \"this_file_doesnot_exists.txt\"\n",
    "create_newfile = open(check_for_this_file,\"w\")"
   ]
  },
  {
   "cell_type": "code",
   "execution_count": 119,
   "id": "39aa5956-6634-4323-8219-50762f165435",
   "metadata": {},
   "outputs": [],
   "source": [
    "# Example - 7.2 | Create & Write to the file.\n",
    "import os\n",
    "file = \"test.txt\"\n",
    "with open(file,\"w\") as myfile:\n",
    "    myfile.write(\"My First file written from python \\n\")\n",
    "    myfile.write(\"-------------------------------------\\n\")\n",
    "    myfile.write(\"\\n\")\n",
    "    myfile.write(\"Hello, World!\")\n",
    "    myfile.close()"
   ]
  },
  {
   "cell_type": "markdown",
   "id": "2416ce66-6e6f-4cde-8047-493e2252fece",
   "metadata": {},
   "source": [
    "The open function takes two arguments.\n",
    "1. The first is the name of the file (`test.txt`)\n",
    "2. The second is the mode (`w`) which means that we are opening the file for writing.With mode `\"w\"`, if there is no file named `test.txt` on the disk, it will be created. If there already is one, it will be replaced by the file we are writing\n",
    "\n",
    "To put data in the file we invoke the `write()` method on the handle. <br/>\n",
    "The file is closed using the `myfile.close()`"
   ]
  },
  {
   "cell_type": "markdown",
   "id": "ee74a06c-ba6d-45dc-a214-8e017f5ba2fe",
   "metadata": {},
   "source": [
    "## 7.3 Reading a File one-line-at-a-time"
   ]
  },
  {
   "cell_type": "markdown",
   "id": "677f82e1-7bd9-4ca2-a5d1-edcc314abb5a",
   "metadata": {},
   "source": [
    "Now that the file exists on our disk, we can open it, this time for reading, and read all the lines in the file, one at a time. <br/>\n",
    "This time, the mode argument is `\"r\"` for reading:"
   ]
  },
  {
   "cell_type": "code",
   "execution_count": 129,
   "id": "2e313fe9-21a4-47d6-a83a-43d90c8d481d",
   "metadata": {},
   "outputs": [
    {
     "name": "stdout",
     "output_type": "stream",
     "text": [
      "My First file written from python \n",
      " -------------------------------------\n",
      " \n",
      " Hello, World! "
     ]
    }
   ],
   "source": [
    "with open(file,'r') as my_new_handle:\n",
    "    for the_line in my_new_handle:\n",
    "        print(the_line, end=' ')"
   ]
  },
  {
   "cell_type": "markdown",
   "id": "cf930c15-1b9f-4139-b4d0-3f4f5abd0811",
   "metadata": {},
   "source": [
    "### 7.3.1 Checking File Before Reading File\n",
    "If we try to open a file that doesn’t exist, we get an error"
   ]
  },
  {
   "cell_type": "code",
   "execution_count": 136,
   "id": "512e6212-558f-4278-8705-9a6eb922e9f9",
   "metadata": {},
   "outputs": [],
   "source": [
    "mynew_filehandle = open(\"this_file_doesnot_exists.txt\",'r')"
   ]
  },
  {
   "cell_type": "markdown",
   "id": "d747a188-adba-4f61-b80d-931bbb4307ca",
   "metadata": {},
   "source": [
    "To Prevent this error from occuring we'll check for the file before reading the file."
   ]
  },
  {
   "cell_type": "code",
   "execution_count": 137,
   "id": "80649aab-b5b4-4ddf-95a5-391007d6eeec",
   "metadata": {},
   "outputs": [
    {
     "name": "stdout",
     "output_type": "stream",
     "text": [
      " File `this_file_doesnot_exists.txt` is available \n"
     ]
    },
    {
     "data": {
      "text/plain": [
       "True"
      ]
     },
     "execution_count": 137,
     "metadata": {},
     "output_type": "execute_result"
    }
   ],
   "source": [
    "# Exercise - 7.4 Check the exists of file before reading.\n",
    "import os\n",
    "check_for_this_file = \"this_file_doesnot_exists.txt\"\n",
    "def check_file_if_exists():\n",
    "    if os.path.exists(check_for_this_file):\n",
    "        print(f\" File `{check_for_this_file}` is available \")\n",
    "        return True\n",
    "    else:\n",
    "        print(f\" File `{check_for_this_file}` is not available\")\n",
    "        return False\n",
    "\n",
    "check_file_if_exists()"
   ]
  },
  {
   "cell_type": "code",
   "execution_count": 145,
   "id": "b262acb2-e28d-4bd6-9351-afdcff8df431",
   "metadata": {},
   "outputs": [
    {
     "name": "stdout",
     "output_type": "stream",
     "text": [
      "file `this_file_doesnot_exists.txt` not found\n",
      "file `test.txt` not found\n"
     ]
    }
   ],
   "source": [
    "remove_this_files = [\n",
    "    check_for_this_file,\n",
    "    file\n",
    "]\n",
    "\n",
    "def delete_thisfile(file):\n",
    "    if os.path.exists(file):\n",
    "        os.remove(file)\n",
    "    else:\n",
    "        print(f\"file `{file}` not found\")\n",
    "\n",
    "for thisfile in remove_this_files:\n",
    "    # print(thisfile)\n",
    "    delete_thisfile(thisfile)\n"
   ]
  },
  {
   "cell_type": "markdown",
   "id": "f7db0d72-b33b-4253-a1cf-8bc5af37f080",
   "metadata": {},
   "source": [
    "## 7.4 Turning a file into a list of lines"
   ]
  },
  {
   "cell_type": "markdown",
   "id": "c79c1709-9a16-4adc-9d72-df1c26cbe300",
   "metadata": {},
   "source": [
    "It is often useful to fetch data from a disk file and turn it into a list of lines. Suppose we have a file containing our\n",
    "friends and their email addresses, one per line in the file. But we’d like the lines sorted into alphabetical order. A good\n",
    "plan is to read everything into a list of lines, then sort the list, and then write the sorted list back to another file:"
   ]
  },
  {
   "cell_type": "code",
   "execution_count": 161,
   "id": "7421e2c8-b597-4008-872b-00cce89f1264",
   "metadata": {},
   "outputs": [
    {
     "name": "stdout",
     "output_type": "stream",
     "text": [
      "adam adamsmith@gmail.com\n",
      "bob  bobsaw@gmail.com\n",
      "chuck chuchnorris@gmail.com\n",
      "david daviddobrick@gmail.com\n",
      "alvin alvinchipmunks@gmail.com\n",
      "beyonce beyonce345@gmail.com\n",
      "fulmetal fullalchemist@gmail.com\n",
      "\n",
      "\n"
     ]
    }
   ],
   "source": [
    "email_file = \"data/friends_emails.txt\"\n",
    "all_lines = \"\"\n",
    "\n",
    "with open(email_file,\"r\") as input_file:\n",
    "    print(input_file.read())\n",
    "    # all_lines = input_file.readlines()\n",
    "    # print(all_lines)\n",
    "    # all_lines.sort()\n",
    "    # input_file.close()\n",
    "\n",
    "\n",
    "# for i,this_line in enumerate(all_lines):\n",
    "#     print(f\" [{i}] {this_line}\")\n",
    "    "
   ]
  },
  {
   "cell_type": "markdown",
   "id": "da3c343d-8da7-4018-9516-4cc9dc9ca241",
   "metadata": {},
   "source": [
    "## 7.5 Reading the whole file at once\n"
   ]
  },
  {
   "cell_type": "markdown",
   "id": "f711778c-d312-468b-83db-01077d1d150d",
   "metadata": {},
   "source": [
    "Another way of working with text files is to read the complete contents of the file into a string, and then to use our string-processing skills to work with the contents."
   ]
  },
  {
   "cell_type": "markdown",
   "id": "f766b9b4-488b-4744-b3f5-031b6ba73aa6",
   "metadata": {},
   "source": [
    "We’d normally use this method of processing files if we were not interested in the line structure of the file. <br/> For example, we’ve seen the `split` method on strings which can break a string into words. So here is how we might\n",
    "count the number of words in a file:"
   ]
  },
  {
   "cell_type": "code",
   "execution_count": 166,
   "id": "1c51689f-ea5f-46d1-9b59-470a3db34ad0",
   "metadata": {},
   "outputs": [
    {
     "name": "stdout",
     "output_type": "stream",
     "text": [
      "There are 14 words in the file.\n"
     ]
    }
   ],
   "source": [
    "\n",
    "with open(email_file) as f:\n",
    "    content = f.read()\n",
    "\n",
    "words = content.split()\n",
    "print(\"There are {0} words in the file.\".format(len(words)))\n"
   ]
  },
  {
   "cell_type": "markdown",
   "id": "8d07ee35-f5cb-4661-a970-a9f6ca4ebc11",
   "metadata": {},
   "source": [
    "> Notice here that we left out the \"r\" mode in line 1. By default, if we don’t supply the mode, Python opens the file for\n",
    "reading."
   ]
  },
  {
   "cell_type": "markdown",
   "id": "9d17d3f4-5f79-4d75-ac53-7bcb8c1e9162",
   "metadata": {},
   "source": [
    "Your file paths may need to be explicitly named\n",
    "\n",
    "In the above example,\n",
    "1. we’re assuming that the file `somefile.txt` is in the same directory as your Python source code.\n",
    "2. If this is not the case, you may need to provide a full or a relative path to the file.\n",
    "3. On Windows, a full path could look like `\"C:\\\\temp\\\\somefile.txt\"`, while on a Unix system the full path could be `\"/home/jimmy/somefile.txt\"`."
   ]
  },
  {
   "cell_type": "code",
   "execution_count": null,
   "id": "8a90f78a-c9d9-4468-bcf7-51d11d97548c",
   "metadata": {},
   "outputs": [],
   "source": []
  }
 ],
 "metadata": {
  "kernelspec": {
   "display_name": "Python 3 (ipykernel)",
   "language": "python",
   "name": "python3"
  },
  "language_info": {
   "codemirror_mode": {
    "name": "ipython",
    "version": 3
   },
   "file_extension": ".py",
   "mimetype": "text/x-python",
   "name": "python",
   "nbconvert_exporter": "python",
   "pygments_lexer": "ipython3",
   "version": "3.11.9"
  }
 },
 "nbformat": 4,
 "nbformat_minor": 5
}
