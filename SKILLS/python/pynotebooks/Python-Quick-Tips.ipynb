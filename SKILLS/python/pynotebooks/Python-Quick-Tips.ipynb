{
 "cells": [
  {
   "cell_type": "markdown",
   "id": "c6d8c665-ecb9-4dee-84c5-1742160c3a90",
   "metadata": {},
   "source": [
    "## Python Progam - 01\n",
    "This code defines a list accessories containing six items: \"laptop\", \"mouse\", \"keyboard\", \"monitor-screen\", \"desk\", and \"cooling-fan\".\n",
    "\n",
    "The list_items() function is defined to list the items in the accessories list with their corresponding index numbers. The function uses a for loop to iterate through the accessories list, where i is the index and item is the current item in the list. The enumerate() function is used to get both the index and the item.\n",
    "\n",
    "Here's a breakdown of the code:\n",
    "\n",
    "1. accessories = `[\"laptop\",\"mouse\",\"keyboard\",\"monitor-screen\",\"desk\",\"cooling-fan\"]`: This line creates a list accessories with six items.\n",
    "2. `def list_items()`:: This line defines a function list_items that takes no arguments.\n",
    "3. `for i,item in enumerate(accessories)`:: This line starts a for loop that iterates through the accessories list. The enumerate() function returns an iterator that produces tuples containing the index i and the item item from the list.\n",
    "4. `print(f\" [{i+1}] {item} \")`: This line prints the index i+1 (because indexing starts at `0`, we add 1 to get the actual position) and the item item in the format [X] item, where X is the index.\n",
    "\n",
    "If you call the list_items() function, it will output:"
   ]
  },
  {
   "cell_type": "code",
   "execution_count": 4,
   "id": "c64b22d3-73c0-4803-859f-aa32a747b7dd",
   "metadata": {},
   "outputs": [
    {
     "name": "stdout",
     "output_type": "stream",
     "text": [
      " [1] laptop \n",
      " [2] mouse \n",
      " [3] keyboard \n",
      " [4] monitor-screen \n",
      " [5] desk \n",
      " [6] cooling-fan \n",
      "The list is Not Empty\n"
     ]
    }
   ],
   "source": [
    "accessories = [\"laptop\",\"mouse\",\"keyboard\",\"monitor-screen\",\"desk\",\"cooling-fan\"]\n",
    "\n",
    "# accessories.clear()\n",
    "def list_items():\n",
    "    for i,item in enumerate(accessories):\n",
    "        print(f\" [{i+1}] {item} \")\n",
    "\n",
    "def check_list():\n",
    "    if accessories:\n",
    "        print(\"The list is Not Empty\")\n",
    "    else:\n",
    "        print(\"The list is emtpy\")\n",
    "\n",
    "list_items()\n",
    "check_list()"
   ]
  },
  {
   "cell_type": "code",
   "execution_count": null,
   "id": "4866910a-fe54-487b-9ae4-0adf66c482fd",
   "metadata": {},
   "outputs": [],
   "source": []
  }
 ],
 "metadata": {
  "kernelspec": {
   "display_name": "Python 3 (ipykernel)",
   "language": "python",
   "name": "python3"
  },
  "language_info": {
   "codemirror_mode": {
    "name": "ipython",
    "version": 3
   },
   "file_extension": ".py",
   "mimetype": "text/x-python",
   "name": "python",
   "nbconvert_exporter": "python",
   "pygments_lexer": "ipython3",
   "version": "3.11.9"
  }
 },
 "nbformat": 4,
 "nbformat_minor": 5
}
