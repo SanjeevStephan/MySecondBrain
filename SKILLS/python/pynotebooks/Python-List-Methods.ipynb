{
 "cells": [
  {
   "cell_type": "markdown",
   "id": "5471009e-b4a8-4488-b4fe-6b5055785cc6",
   "metadata": {},
   "source": [
    "# List Methods"
   ]
  },
  {
   "cell_type": "markdown",
   "id": "a310cda0-eb0a-48e6-bc3b-5687d900fbba",
   "metadata": {},
   "source": [
    "Python has a set of built-in methods that you can use on lists."
   ]
  },
  {
   "cell_type": "markdown",
   "id": "096e63f8-64ac-4f21-99c0-087dc3e04562",
   "metadata": {},
   "source": [
    "\n",
    "| Method                                                             | Description                                                                  |\n",
    "| ------------------------------------------------------------------ | ---------------------------------------------------------------------------- |\n",
    "| [append()](https://www.w3schools.com/python/ref_list_append.asp)   | Adds an element at the end of the list                                       |\n",
    "| [clear()](https://www.w3schools.com/python/ref_list_clear.asp)     | Removes all the elements from the list                                       |\n",
    "| [copy()](https://www.w3schools.com/python/ref_list_copy.asp)       | Returns a copy of the list                                                   |\n",
    "| [count()](https://www.w3schools.com/python/ref_list_count.asp)     | Returns the number of elements with the specified value                      |\n",
    "| [extend()](https://www.w3schools.com/python/ref_list_extend.asp)   | Add the elements of a list (or any iterable), to the end of the current list |\n",
    "| [index()](https://www.w3schools.com/python/ref_list_index.asp)     | Returns the index of the first element with the specified value              |\n",
    "| [insert()](https://www.w3schools.com/python/ref_list_insert.asp)   | Adds an element at the specified position                                    |\n",
    "| [pop()](https://www.w3schools.com/python/ref_list_pop.asp)         | Removes the element at the specified position                                |\n",
    "| [remove()](https://www.w3schools.com/python/ref_list_remove.asp)   | Removes the item with the specified value                                    |\n",
    "| [reverse()](https://www.w3schools.com/python/ref_list_reverse.asp) | Reverses the order of the list                                               |\n",
    "| [sort()](https://www.w3schools.com/python/ref_list_sort.asp)       | Sorts the list                                                               |\n",
    "  "
   ]
  },
  {
   "cell_type": "markdown",
   "id": "9c3958f6-5b7a-4f00-ad11-ea9636c7dc71",
   "metadata": {},
   "source": [
    "## Python List append() Method"
   ]
  },
  {
   "cell_type": "markdown",
   "id": "49a5a3db-757a-41a0-8633-b9952631035d",
   "metadata": {},
   "source": [
    "### Definition and Usage\n",
    "The `append()` method appends an element to the end of the list.\n",
    "\n",
    "### Syntax\n",
    "```python\n",
    "    list.append(element)\n",
    "```"
   ]
  },
  {
   "cell_type": "markdown",
   "id": "7ac11fac-6f7d-464b-9a1a-7c093771b877",
   "metadata": {},
   "source": [
    "### Example - 1 \n",
    "Add an element to the fruits list:"
   ]
  },
  {
   "cell_type": "code",
   "execution_count": 3,
   "id": "368f41bf-2ec1-4c2c-91db-37cac678633d",
   "metadata": {},
   "outputs": [
    {
     "name": "stdout",
     "output_type": "stream",
     "text": [
      "['apple', 'banana', 'cherry', 'mango']\n"
     ]
    }
   ],
   "source": [
    "# method - 1 | append()\n",
    "fruits = ['apple','banana','cherry']\n",
    "fruits.append('mango')\n",
    "print(fruits)"
   ]
  },
  {
   "cell_type": "code",
   "execution_count": null,
   "id": "b58d195f-79fc-4db6-a627-439f39870f5c",
   "metadata": {},
   "outputs": [],
   "source": []
  }
 ],
 "metadata": {
  "kernelspec": {
   "display_name": "Python 3 (ipykernel)",
   "language": "python",
   "name": "python3"
  },
  "language_info": {
   "codemirror_mode": {
    "name": "ipython",
    "version": 3
   },
   "file_extension": ".py",
   "mimetype": "text/x-python",
   "name": "python",
   "nbconvert_exporter": "python",
   "pygments_lexer": "ipython3",
   "version": "3.11.9"
  }
 },
 "nbformat": 4,
 "nbformat_minor": 5
}
