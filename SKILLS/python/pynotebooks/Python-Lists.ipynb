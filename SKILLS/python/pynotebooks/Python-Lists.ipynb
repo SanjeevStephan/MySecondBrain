{
 "cells": [
  {
   "cell_type": "markdown",
   "id": "362dda2e-8e00-4e70-8b90-863052a6929c",
   "metadata": {},
   "source": [
    "# Python Lists\n",
    "```python\n",
    "mylist = [\"apple\", \"banana\", \"cherry\"]\n",
    "```\n",
    "## List\r\n",
    "Lists are used to store multiple items in a single variable <br/>\n",
    "Lists are one of 4 built-in data types in Python used to store collections of data\n",
    "the other <br/>\n",
    "There are four collection data types in the Python programming language:\r\n",
    "\r\n",
    "List is a collection which is ordered and changeable. Allows duplicate member <br/>s.\r\n",
    "Tuple is a collection which is ordered and unchangeable. Allows duplicate membe <br/>rs.\r\n",
    "Set is a collection which is unordered, unchangeable*, and unindexed. No duplicate memb <br/>ers.\r\n",
    "Dictionary is a collection which is ordered** and changeable. No duplicate me <br/>mbers\n",
    "<br/>\n",
    "Lists are created using square brackets:."
   ]
  },
  {
   "cell_type": "code",
   "execution_count": 1,
   "id": "79f794dd-0122-4002-8849-c50ae81b0db6",
   "metadata": {},
   "outputs": [
    {
     "name": "stdout",
     "output_type": "stream",
     "text": [
      "['apple', 'banana', 'cherry']\n"
     ]
    }
   ],
   "source": [
    "# Create a List:\n",
    "this_is_list = [\"apple\",\"banana\",\"cherry\"]\n",
    "print(this_is_list)"
   ]
  },
  {
   "cell_type": "markdown",
   "id": "75d93749-7927-4f04-a61e-20bc383ef2d6",
   "metadata": {},
   "source": [
    "### List Items\r\n",
    "List items are ordered, changeable, and allow duplicate values.\r\n",
    "\r\n",
    "List items are indexed, the first item has index [0], the second item has index [1] et\n",
    "\n",
    "### Allow Duplicates\r\n",
    "Since lists are indexed, lists can have items with the same value:c. "
   ]
  },
  {
   "cell_type": "code",
   "execution_count": 2,
   "id": "6cb15b89-a694-4411-9f0a-d1b02c662432",
   "metadata": {},
   "outputs": [
    {
     "name": "stdout",
     "output_type": "stream",
     "text": [
      "['apple', 'banana', 'cherry', 'apple', 'cherry']\n"
     ]
    }
   ],
   "source": [
    "# List Allow duplicate values : \n",
    "this_is_another_list = [\"apple\",\"banana\",\"cherry\",\"apple\",\"cherry\"]\n",
    "print(this_is_another_list)"
   ]
  },
  {
   "cell_type": "markdown",
   "id": "6a967ae4-f566-4a4d-9c36-aadb95905885",
   "metadata": {},
   "source": [
    "### List Length\r\n",
    "To determine how many items a list has, use the`len()`) function\n",
    ":"
   ]
  },
  {
   "cell_type": "code",
   "execution_count": 6,
   "id": "2612ea9f-4dc6-4bc3-abfe-e7f3e1ad1899",
   "metadata": {},
   "outputs": [
    {
     "name": "stdout",
     "output_type": "stream",
     "text": [
      "3\n"
     ]
    }
   ],
   "source": [
    "# print the number of items in the list  \n",
    "print(len(this_is_list))"
   ]
  },
  {
   "cell_type": "markdown",
   "id": "80ebb1e3-3f63-4070-8a27-f8ad2ab74780",
   "metadata": {},
   "source": [
    "### List Items - Data Types\n",
    "String, int and boolean data types or <br/>\n",
    "A list can contain different data types:"
   ]
  },
  {
   "cell_type": "code",
   "execution_count": 5,
   "id": "1a556734-e45f-4129-8dac-ffd8b8b61289",
   "metadata": {},
   "outputs": [],
   "source": [
    "# A list with strings, integers and boolean values:\n",
    "list1 = [\"abc\", 34, True, 40, \"male\" ]"
   ]
  },
  {
   "cell_type": "markdown",
   "id": "4d687c03-cae4-4d2a-ad91-aa4c792ddb41",
   "metadata": {},
   "source": [
    "### The list() Constructor\n",
    "It is also possible to use the list() constructor when creating a new list."
   ]
  },
  {
   "cell_type": "code",
   "execution_count": 8,
   "id": "3fd37590-674e-43c6-9997-f1f77b65c327",
   "metadata": {},
   "outputs": [
    {
     "name": "stdout",
     "output_type": "stream",
     "text": [
      "['audi', 'bmw', 'ferrari', 'lamborgini']\n"
     ]
    }
   ],
   "source": [
    "# Using the list() constructor to make a List:\n",
    "cars = list((\"audi\",\"bmw\",\"ferrari\",\"lamborgini\"))\n",
    "print(cars)"
   ]
  },
  {
   "cell_type": "markdown",
   "id": "308e4cfd-269a-4bb5-b4be-1e025c979596",
   "metadata": {},
   "source": [
    "## Python - Access List Items\n",
    "\n",
    "### Access Items\r\n",
    "List items are indexed and you can access them by referring to the index number:\n"
   ]
  },
  {
   "cell_type": "code",
   "execution_count": 11,
   "id": "66acebfe-1bcc-4c1f-8f5b-4acd59860415",
   "metadata": {},
   "outputs": [
    {
     "name": "stdout",
     "output_type": "stream",
     "text": [
      "bmw\n"
     ]
    }
   ],
   "source": [
    "# Print the second item of the list \"cars\"\n",
    "print(cars[1])"
   ]
  },
  {
   "cell_type": "markdown",
   "id": "057604ac-5039-4b7e-bca6-d2c1f76279ce",
   "metadata": {},
   "source": [
    "> Note: The first item has index 0."
   ]
  },
  {
   "cell_type": "markdown",
   "id": "a662238d-89c4-421f-97c1-071e0438987e",
   "metadata": {},
   "source": [
    "### Negative Indexing\n",
    "Negative indexing means start from the end\n",
    "<br/>\n",
    "-1 refers to the last item, -2 refers to the second last item etc."
   ]
  },
  {
   "cell_type": "code",
   "execution_count": 12,
   "id": "cb7d9e11-d5ec-41cb-bd0a-f992e31b4a69",
   "metadata": {},
   "outputs": [
    {
     "name": "stdout",
     "output_type": "stream",
     "text": [
      "lamborgini\n"
     ]
    }
   ],
   "source": [
    "# print the last item of the list : \n",
    "print(cars[-1]) # that should return \"lamborgini\""
   ]
  },
  {
   "cell_type": "markdown",
   "id": "bac808a4-b82a-46e3-aa7c-414a3a6e4702",
   "metadata": {},
   "source": [
    "### Range of Indexes\n",
    "You can specify a range of indexes by specifying where to start and where to end the range.\n",
    "<br/>\n",
    "When specifying a range, the return value will be a new list with the specified items."
   ]
  },
  {
   "cell_type": "code",
   "execution_count": 33,
   "id": "df529af6-72ca-4d79-b53f-457263a47843",
   "metadata": {},
   "outputs": [
    {
     "name": "stdout",
     "output_type": "stream",
     "text": [
      "Total Cars in Garage :  9\n"
     ]
    }
   ],
   "source": [
    "# Return the third, fourth, and fifth item\n",
    "more_cars = [\"Audi\",\"BMW\",\"Chevrolet\",\"DodgeViper\",\"Ferrari\",\"General Motors\",\"Hyundai\",\"Jaguar\",\"Lamborgini\"]\n",
    "print(\"Total Cars in Garage : \", len(more_cars))"
   ]
  },
  {
   "cell_type": "code",
   "execution_count": 34,
   "id": "e34e6441-2439-4441-b0e4-e14e941cc937",
   "metadata": {},
   "outputs": [
    {
     "name": "stdout",
     "output_type": "stream",
     "text": [
      "At Index :  0  Audi is available\n",
      "At Index :  1  BMW is available\n",
      "At Index :  2  Chevrolet is available\n",
      "At Index :  3  DodgeViper is available\n",
      "At Index :  4  Ferrari is available\n",
      "At Index :  5  General Motors is available\n",
      "At Index :  6  Hyundai is available\n",
      "At Index :  7  Jaguar is available\n",
      "At Index :  8  Lamborgini is available\n"
     ]
    }
   ],
   "source": [
    "# Display all the List Items using their Index Number from Starting\n",
    "for x in range(len(more_cars)):\n",
    "   print(\"At Index : \", x , \" \" + more_cars[x] + \" is available\")"
   ]
  },
  {
   "cell_type": "code",
   "execution_count": 36,
   "id": "3f5d2821-4e70-4102-9ed0-245f710f6762",
   "metadata": {},
   "outputs": [
    {
     "name": "stdout",
     "output_type": "stream",
     "text": [
      "Display from 2nd Cars to 7th Cars ['Chevrolet', 'DodgeViper', 'Ferrari', 'General Motors', 'Hyundai']\n"
     ]
    }
   ],
   "source": [
    "print(\"Display from 2nd Cars to 7th Cars\", more_cars[2:7])"
   ]
  },
  {
   "cell_type": "markdown",
   "id": "e276657a-d702-46ce-b3c9-eaada2f8f1e0",
   "metadata": {},
   "source": [
    "> Note: The search will start at index 2 (included) and end at index 7 'Jaguar' (not included). <br/>\n",
    "> Remember that the first item has index 0"
   ]
  },
  {
   "cell_type": "code",
   "execution_count": 17,
   "id": "f321a4d5-318f-420d-ae39-1f3cb7f3e05e",
   "metadata": {},
   "outputs": [
    {
     "name": "stdout",
     "output_type": "stream",
     "text": [
      "['Audi', 'BMW', 'Chevrolet', 'DodgeViper']\n"
     ]
    }
   ],
   "source": [
    "# This example returns the items from the beginning to, not including \"Ferrari\" which is at position 4\n",
    "# if we count it from 0-Audi, 1-BMW,..3-DodgeViper,4-Ferrari\"\n",
    "print(more_cars[:4])"
   ]
  },
  {
   "cell_type": "code",
   "execution_count": 19,
   "id": "6dbe3172-97c4-4779-a286-119813347e0b",
   "metadata": {},
   "outputs": [
    {
     "name": "stdout",
     "output_type": "stream",
     "text": [
      "['Chevrolet', 'DodgeViper', 'Ferrari', 'General Motors', 'Hyundai', 'Jaguar', 'Lamborgini']\n"
     ]
    }
   ],
   "source": [
    "# This example returns the items from \"Chevrolet\" to the end:\n",
    "print(more_cars[2:])"
   ]
  },
  {
   "cell_type": "markdown",
   "id": "77a7ebcb-ba90-48bf-8152-ad3c23f2ed06",
   "metadata": {},
   "source": [
    "### Range of Negative Indexes\n",
    "Specify negative indexes if you want to start the search from the end of the list:"
   ]
  },
  {
   "cell_type": "code",
   "execution_count": 38,
   "id": "e7b93877-2edf-42d9-ade8-8ac8b770a7e3",
   "metadata": {},
   "outputs": [
    {
     "name": "stdout",
     "output_type": "stream",
     "text": [
      "Audi is at Index number : - 0\n",
      "Lamborgini is at Index number : - 1\n",
      "Jaguar is at Index number : - 2\n",
      "Hyundai is at Index number : - 3\n",
      "General Motors is at Index number : - 4\n",
      "Ferrari is at Index number : - 5\n",
      "DodgeViper is at Index number : - 6\n",
      "Chevrolet is at Index number : - 7\n",
      "BMW is at Index number : - 8\n"
     ]
    }
   ],
   "source": [
    "# Display the list of items counting from end\n",
    "for x in range(len(more_cars)):\n",
    "    print(more_cars[-x] + \" is at Index number : -\", x)"
   ]
  },
  {
   "cell_type": "code",
   "execution_count": 28,
   "id": "1e05060f-4248-4bc8-af4c-bfa29c6d040f",
   "metadata": {},
   "outputs": [
    {
     "name": "stdout",
     "output_type": "stream",
     "text": [
      "['General Motors', 'Hyundai', 'Jaguar']\n"
     ]
    }
   ],
   "source": [
    "# This example returns the items from \"General Motors\" (-4) to, but NOT including \"Lamborgini \" (-1):\n",
    "print(more_cars[-4:-1])"
   ]
  },
  {
   "cell_type": "markdown",
   "id": "35d3e7cd-eef7-4d7b-a3de-40aad54c7c22",
   "metadata": {},
   "source": [
    "### Check if Item Exists\n",
    "To determine if a specified item is present in a list use the in keyword: "
   ]
  },
  {
   "cell_type": "code",
   "execution_count": 43,
   "id": "8129c34a-3464-461c-aec2-ec65b8e1cdba",
   "metadata": {},
   "outputs": [
    {
     "name": "stdout",
     "output_type": "stream",
     "text": [
      "yes, Cherry is present in the list\n"
     ]
    }
   ],
   "source": [
    "fruits = [\"apple\",\"banana\",\"cherry\",\"mango\"]\n",
    "if \"cherry\" in fruits:\n",
    "    print(\"yes, Cherry is present in the list\")\n",
    "else:\n",
    "    print(\"No, Cherry is not present in the list\")"
   ]
  },
  {
   "cell_type": "markdown",
   "id": "0a28f8f1-2d46-47b3-b42f-71ba1d0f4996",
   "metadata": {},
   "source": [
    "## Python - Change List Items\n",
    "\n",
    "### Change Item Value\r\n",
    "To change the value of a specific item, refer to the index number:"
   ]
  },
  {
   "cell_type": "code",
   "execution_count": 86,
   "id": "efe156f0-4d2c-4af9-ac7c-065b4a20ea79",
   "metadata": {},
   "outputs": [],
   "source": [
    "# change the second item : \n",
    "companys = [\"apple\",\"facebook\",\"microsoft\",\"dell\",\"openai\",\"spacex\"]"
   ]
  },
  {
   "cell_type": "code",
   "execution_count": 60,
   "id": "a5f1cec9-2e60-41bf-8c01-e3c51bc6ce34",
   "metadata": {},
   "outputs": [
    {
     "name": "stdout",
     "output_type": "stream",
     "text": [
      "At Index [  0  ] is apple\n",
      "At Index [  1  ] is facebook\n",
      "At Index [  2  ] is microsoft\n",
      "At Index [  3  ] is dell\n",
      "At Index [  4  ] is openai\n",
      "At Index [  5  ] is spacex\n"
     ]
    }
   ],
   "source": [
    "# lets first quickly find out which items is indexed at which posiion\n",
    "for x in range(len(companys)):\n",
    "    print(\"At Index [ \", x , \" ] is \" + companys[x])\n",
    "    "
   ]
  },
  {
   "cell_type": "code",
   "execution_count": 64,
   "id": "1f57619b-40ba-4920-961d-48bc54453b34",
   "metadata": {},
   "outputs": [
    {
     "name": "stdout",
     "output_type": "stream",
     "text": [
      "List before Adding 'tesla' :  ['apple', 'facebook', 'microsoft', 'dell', 'openai', 'spacex']\n",
      "List after Adding 'tesla'  :  ['apple', 'facebook', 'microsoft', 'tesla', 'openai', 'spacex']\n"
     ]
    }
   ],
   "source": [
    "# now lets change the item at position 3 ( from dell to tesla )\n",
    "print(\"List before Adding 'tesla' : \", companys)\n",
    "companys[3] = \"tesla\"\n",
    "print(\"List after Adding 'tesla'  : \", companys )"
   ]
  },
  {
   "cell_type": "markdown",
   "id": "ce5ab04a-fb89-4c1f-aeb3-e9859dc22cc5",
   "metadata": {},
   "source": [
    "### Change a Range of Item Values\n",
    "To change the value of items within a specific range, define a list with the new values, and refer to the range of index numbers where you want to insert the new values:"
   ]
  },
  {
   "cell_type": "code",
   "execution_count": 75,
   "id": "19ea4a1a-bea2-4fa8-a68e-67f7d65279be",
   "metadata": {},
   "outputs": [
    {
     "name": "stdout",
     "output_type": "stream",
     "text": [
      "Total Length of the List :  6\n",
      "['apple', 'meta', 'google', 'spacex']\n"
     ]
    }
   ],
   "source": [
    "# change the value of 'facebook' and 'spacex' with the values 'meta' and 'google'\n",
    "print(\"Total Length of the List : \" , len(companys))\n",
    "companys[1:5] = [\"meta\",\"google\"]\n",
    "print(companys)"
   ]
  },
  {
   "cell_type": "markdown",
   "id": "0bbf505e-41b3-489e-bac6-347f75542c5d",
   "metadata": {},
   "source": [
    "## Python - Add List Items\n",
    "\n",
    "### Append Items\n",
    "To add an item to the end of the list, use the `append()` method :\n",
    "\n"
   ]
  },
  {
   "cell_type": "code",
   "execution_count": 89,
   "id": "74af7ae1-8c19-4280-8f84-198a16e4ca59",
   "metadata": {},
   "outputs": [
    {
     "name": "stdout",
     "output_type": "stream",
     "text": [
      "Total Coding Language :  4  |  ['bash', 'c++', 'go', 'java']\n",
      "Total Coding Language :  5  |  ['bash', 'c++', 'go', 'java', 'python']\n"
     ]
    }
   ],
   "source": [
    "coding_lang = [\"bash\",\"c++\",\"go\",\"java\"]\n",
    "print(\"Total Coding Language : \", len(coding_lang), \" | \",coding_lang)\n",
    "# appending 'python' to the list will add the item to the end of the list\n",
    "coding_lang.append(\"python\")\n",
    "print(\"Total Coding Language : \", len(coding_lang), \" | \",coding_lang)"
   ]
  },
  {
   "cell_type": "markdown",
   "id": "84d29bd0-5c91-4aa6-9cf8-cd553a07e10f",
   "metadata": {},
   "source": [
    "### Insert Items\n",
    "To insert a new list item, without replacing any of the existing values, we can use the insert() method.\n",
    "The insert() method inserts an item at the specified index:"
   ]
  },
  {
   "cell_type": "code",
   "execution_count": 87,
   "id": "63a9bd00-1979-491b-b5df-27b3d00d9c58",
   "metadata": {},
   "outputs": [
    {
     "name": "stdout",
     "output_type": "stream",
     "text": [
      "['apple', 'facebook', 'microsoft', 'dell', 'openai', 'spacex']\n",
      "Total Items before adding 'google' :  6\n",
      "Displaying List Items :  ['apple', 'facebook', 'google', 'microsoft', 'dell', 'openai', 'spacex']\n",
      "Total Items after adding 'google' :  7\n"
     ]
    }
   ],
   "source": [
    "print(companys)\n",
    "print(\"Total Items before adding 'google' : \", len(companys))\n",
    "# let's add a new list item at index '2' as third item \n",
    "companys.insert(2,\"google\")\n",
    "print(\"Displaying List Items : \", companys)\n",
    "print(\"Total Items after adding 'google' : \", len(companys))"
   ]
  },
  {
   "cell_type": "markdown",
   "id": "8cfdef04-76a5-4d4e-8ac4-eb924dce1b01",
   "metadata": {},
   "source": [
    "> Note: As a result of the example above, the list will now contain 7 items."
   ]
  },
  {
   "cell_type": "markdown",
   "id": "ce2ca7fc-2ec9-4ae0-9593-b3c2fec8b138",
   "metadata": {},
   "source": [
    "### Extend List\n",
    "To append elements from another list to the current list, use the extend() method."
   ]
  },
  {
   "cell_type": "code",
   "execution_count": 91,
   "id": "7dea299f-8d37-4e16-aeb3-dca8de8780f4",
   "metadata": {},
   "outputs": [
    {
     "name": "stdout",
     "output_type": "stream",
     "text": [
      "['banana', 'mango', 'cherry', 'apple', 'pineapple', 'papaya']\n"
     ]
    }
   ],
   "source": [
    "# Add the elements of 'tropical_fruits' to 'seasonal_fruits'\n",
    "\n",
    "seasonal_fruits = [\"banana\",\"mango\",\"cherry\"]\n",
    "tropical_fruits = [\"apple\",\"pineapple\",\"papaya\"]\n",
    "\n",
    "seasonal_fruits.extend(tropical_fruits)\n",
    "print(seasonal_fruits)\n"
   ]
  },
  {
   "cell_type": "markdown",
   "id": "ce36e6a4-8bf9-4d6e-aaae-d5636a91885c",
   "metadata": {},
   "source": [
    "### Add Any Iterable\n",
    "The extend() method does not have to append lists, you can add any iterable object (tuples, sets, dictionaries etc.)."
   ]
  },
  {
   "cell_type": "code",
   "execution_count": 99,
   "id": "9d87dcd2-2528-4361-ab9e-014ce5a48fc0",
   "metadata": {},
   "outputs": [
    {
     "name": "stdout",
     "output_type": "stream",
     "text": [
      "Cities in Jharkhand :  ['gooda', 'deoghar', 'ranchi', 'simdega', 'jamshedpur']\n",
      "Cities in Bihar :  ('patna', 'bagalpur')\n",
      "Combined Cities :  ['gooda', 'deoghar', 'ranchi', 'simdega', 'jamshedpur', 'patna', 'bagalpur']\n"
     ]
    }
   ],
   "source": [
    "# Add elements of a tuple to a list.\n",
    "city_in_jharkhand = [\"gooda\",\"deoghar\",\"ranchi\",\"simdega\",\"jamshedpur\"] # this is a list\n",
    "print(\"Cities in Jharkhand : \",city_in_jharkhand)\n",
    "city_in_bihar = (\"patna\",\"bagalpur\") # this is a tuple \n",
    "print(\"Cities in Bihar : \",city_in_bihar)\n",
    "city_in_jharkhand.extend(city_in_bihar)\n",
    "combined_cities = []\n",
    "combined_cities.extend(city_in_jharkhand)\n",
    "print(\"Combined Cities : \",combined_cities)"
   ]
  },
  {
   "cell_type": "markdown",
   "id": "29d92701-0f54-40fe-96ed-3331c0901ba3",
   "metadata": {},
   "source": [
    "## Python - Remove List Items"
   ]
  },
  {
   "cell_type": "markdown",
   "id": "8aafd71c-da98-4b74-8d95-5da6be0e5977",
   "metadata": {},
   "source": [
    "### Remove Specified Item\n",
    "The `remove()` method removes the specified item."
   ]
  },
  {
   "cell_type": "code",
   "execution_count": 2,
   "id": "9ee38375-4d0b-43e7-a539-a8a618e37829",
   "metadata": {},
   "outputs": [
    {
     "name": "stdout",
     "output_type": "stream",
     "text": [
      "['banana', 'cherry']\n"
     ]
    }
   ],
   "source": [
    "# remove \"apple\" from the list\n",
    "this_fruits = [\"apple\",\"banana\",\"cherry\"]\n",
    "this_fruits.remove(\"apple\")\n",
    "print(this_fruits)"
   ]
  },
  {
   "cell_type": "markdown",
   "id": "f9751aaf-5941-4bc9-bca3-3f52af0e1c98",
   "metadata": {},
   "source": [
    "> If there are more than one item with the specified value, the remove() method removes the first occurrence"
   ]
  },
  {
   "cell_type": "code",
   "execution_count": 12,
   "id": "594989d6-75dc-496a-bbf7-ef1783d15179",
   "metadata": {},
   "outputs": [
    {
     "name": "stdout",
     "output_type": "stream",
     "text": [
      "['apple', 'cherry', 'banana']\n"
     ]
    }
   ],
   "source": [
    "# remove the first occurence of banana \n",
    "this_fruits = [\"apple\",\"banana\",\"cherry\",\"banana\"]\n",
    "this_fruits.remove(\"banana\")\n",
    "print(this_fruits)\n"
   ]
  },
  {
   "cell_type": "markdown",
   "id": "aad5e72a-29ba-46f9-a91d-5ea0e95eb5b1",
   "metadata": {},
   "source": [
    "### Remove Specified Index\n",
    "The `pop()` method removes the specified index"
   ]
  },
  {
   "cell_type": "code",
   "execution_count": 14,
   "id": "1610654b-e8ab-4bc7-a7b7-a8e59fb3ec4e",
   "metadata": {},
   "outputs": [
    {
     "name": "stdout",
     "output_type": "stream",
     "text": [
      "['shark', 'jellyfish', 'dophine', 'whale']\n",
      "['shark', 'jellyfish', 'whale']\n"
     ]
    }
   ],
   "source": [
    "fishes = [\"shark\",\"jellyfish\",\"dophine\",\"whale\"]\n",
    "print(fishes)\n",
    "fishes.pop(2) # remove the 3rd item at index number 2 \n",
    "print(fishes)"
   ]
  },
  {
   "cell_type": "markdown",
   "id": "0a38a2bb-584c-4b10-b224-33d153af8b89",
   "metadata": {},
   "source": [
    "> If you do not specify the index, the pop() method removes the last item."
   ]
  },
  {
   "cell_type": "code",
   "execution_count": 20,
   "id": "094c3260-dc45-4c76-ab57-557914598712",
   "metadata": {},
   "outputs": [
    {
     "name": "stdout",
     "output_type": "stream",
     "text": [
      "['shark', 'jellyfish', 'dophine', 'whale']\n",
      "['shark', 'jellyfish', 'dophine']\n"
     ]
    }
   ],
   "source": [
    "fishes = [\"shark\",\"jellyfish\",\"dophine\",\"whale\"]\n",
    "print(fishes)\n",
    "fishes.pop() # removes the last index number item\n",
    "print(fishes)"
   ]
  },
  {
   "cell_type": "markdown",
   "id": "9aff401e-b09e-4fb3-b0bd-d53715a1e5e7",
   "metadata": {},
   "source": [
    "The `del` keyword also removes the specified index:\n"
   ]
  },
  {
   "cell_type": "code",
   "execution_count": 18,
   "id": "6d005e3d-28b3-4d50-a54f-9258a28dfdf8",
   "metadata": {},
   "outputs": [
    {
     "name": "stdout",
     "output_type": "stream",
     "text": [
      "['coca-cola', 'pepsi', 'paperboat', 'maza']\n",
      "['coca-cola', 'paperboat', 'maza']\n"
     ]
    }
   ],
   "source": [
    "# remove the firt item\n",
    "beverages = [\"coca-cola\",\"pepsi\",\"paperboat\",\"maza\"]\n",
    "print(beverages)\n",
    "del beverages[1] # remove the 2nd item at index number 1\n",
    "print(beverages)"
   ]
  },
  {
   "cell_type": "markdown",
   "id": "5fa1ce44-b086-44c6-99d8-fc3c8a041d11",
   "metadata": {},
   "source": [
    "The `del' keyword can also delete the list completely."
   ]
  },
  {
   "cell_type": "code",
   "execution_count": 24,
   "id": "189836ef-18cd-4fd3-bb26-859721e86282",
   "metadata": {},
   "outputs": [
    {
     "name": "stdout",
     "output_type": "stream",
     "text": [
      "['vivo', 'oppo', 'samsung', 'nokia', 'iphone']\n"
     ]
    },
    {
     "ename": "NameError",
     "evalue": "name 'smartphones' is not defined",
     "output_type": "error",
     "traceback": [
      "\u001b[0;31m---------------------------------------------------------------------------\u001b[0m",
      "\u001b[0;31mNameError\u001b[0m                                 Traceback (most recent call last)",
      "Cell \u001b[0;32mIn[24], line 5\u001b[0m\n\u001b[1;32m      3\u001b[0m \u001b[38;5;28mprint\u001b[39m(smartphones)\n\u001b[1;32m      4\u001b[0m \u001b[38;5;28;01mdel\u001b[39;00m smartphones\n\u001b[0;32m----> 5\u001b[0m \u001b[38;5;28mprint\u001b[39m(\u001b[43msmartphones\u001b[49m) \u001b[38;5;66;03m#this will cause an error because you have succsesfully deleted \"thislist\".\u001b[39;00m\n",
      "\u001b[0;31mNameError\u001b[0m: name 'smartphones' is not defined"
     ]
    }
   ],
   "source": [
    "# delete the entire list\n",
    "smartphones = [\"vivo\",\"oppo\",\"samsung\",\"nokia\",\"iphone\"]\n",
    "print(smartphones)\n",
    "del smartphones\n",
    "print(smartphones) #this will cause an error because you have succsesfully deleted \"thislist\"."
   ]
  },
  {
   "cell_type": "markdown",
   "id": "5df5aa67-769e-4fd4-a616-84fa0309f0ea",
   "metadata": {},
   "source": [
    "### Clear the List\n",
    "The `clear()` method empties the list.\n",
    "<br/>\n",
    "The list still remains, but it has no content."
   ]
  },
  {
   "cell_type": "code",
   "execution_count": 26,
   "id": "c1f9e78c-9f69-4b41-a5d7-c03acbaa55b9",
   "metadata": {},
   "outputs": [
    {
     "name": "stdout",
     "output_type": "stream",
     "text": [
      "['apple', 'dell', 'samsung', 'lenovo', 'nokia', 'tesla']\n"
     ]
    },
    {
     "ename": "NameError",
     "evalue": "name 'technolog_company' is not defined",
     "output_type": "error",
     "traceback": [
      "\u001b[0;31m---------------------------------------------------------------------------\u001b[0m",
      "\u001b[0;31mNameError\u001b[0m                                 Traceback (most recent call last)",
      "Cell \u001b[0;32mIn[26], line 5\u001b[0m\n\u001b[1;32m      3\u001b[0m \u001b[38;5;28mprint\u001b[39m(technology_company)\n\u001b[1;32m      4\u001b[0m technology_company\u001b[38;5;241m.\u001b[39mclear()\n\u001b[0;32m----> 5\u001b[0m \u001b[38;5;28mprint\u001b[39m(\u001b[43mtechnolog_company\u001b[49m)\n",
      "\u001b[0;31mNameError\u001b[0m: name 'technolog_company' is not defined"
     ]
    }
   ],
   "source": [
    "# clear the list content\n",
    "technology_company = [\"apple\",\"dell\",\"samsung\",\"lenovo\",\"nokia\",\"tesla\"]\n",
    "print(technology_company)\n",
    "technology_company.clear()\n",
    "print(technolog_company)"
   ]
  },
  {
   "cell_type": "markdown",
   "id": "32227634-2e9d-42ef-b7c3-3463f6ca9c4c",
   "metadata": {},
   "source": [
    "## Python - Loop Lists\n",
    "\n",
    "### Loop Through a List\r\n",
    "You can loop through the list items by using a for loop:"
   ]
  },
  {
   "cell_type": "code",
   "execution_count": 27,
   "id": "d70d1189-d1c6-43d1-bc9e-ebdfe8c5894b",
   "metadata": {},
   "outputs": [
    {
     "name": "stdout",
     "output_type": "stream",
     "text": [
      "pen\n",
      "pencil\n",
      "sharpner\n",
      "eraser\n",
      "box\n"
     ]
    }
   ],
   "source": [
    "# print all items in the list, one by one : \n",
    "stationary_items = [\"pen\",\"pencil\",\"sharpner\",\"eraser\",\"box\"]\n",
    "for items in stationary_items:\n",
    "    print(items)"
   ]
  },
  {
   "cell_type": "markdown",
   "id": "fe879369-c38e-4649-bc5b-561bbeca9d1c",
   "metadata": {},
   "source": [
    "### Loop Through the Index Numbers\n",
    "You can also loop through the list items by referring to their index number.\n",
    "<br/>\n",
    "Use the `range()` and `len()` functions to create a suitable iterable."
   ]
  },
  {
   "cell_type": "code",
   "execution_count": 31,
   "id": "fc98e277-eced-45e4-b73f-ac3edda3cefa",
   "metadata": {},
   "outputs": [
    {
     "name": "stdout",
     "output_type": "stream",
     "text": [
      "At Index [ 0 ] item 'pen' is available\n",
      "At Index [ 1 ] item 'pencil' is available\n",
      "At Index [ 2 ] item 'sharpner' is available\n",
      "At Index [ 3 ] item 'eraser' is available\n",
      "At Index [ 4 ] item 'box' is available\n"
     ]
    }
   ],
   "source": [
    "# print all the items by referring to their index number : \n",
    "for i in range(len(stationary_items)):\n",
    "    print(\"At Index [ {0} ] item '{1}' is available\".format(i,stationary_items[i]))"
   ]
  },
  {
   "cell_type": "markdown",
   "id": "e53eb412-15e4-416a-8a1e-328752c572f8",
   "metadata": {},
   "source": [
    "### Using a While Loop\n",
    "You can loop through the list items by using a while loop.\n",
    "\n",
    "Use the `len()` function to determine the length of the list, then start at `0` and loop your way through the list items by referring to their indexes.\n",
    "\n",
    "Remember to increase the index by 1 after each iteration."
   ]
  },
  {
   "cell_type": "code",
   "execution_count": 36,
   "id": "5edaf643-05cc-4088-8060-f6c108eb1781",
   "metadata": {},
   "outputs": [
    {
     "name": "stdout",
     "output_type": "stream",
     "text": [
      "Total Num of item are 5 is in the list ['Bill Gates', 'Elon Musk', 'Mark Zukerberg', 'Larry Ellison', 'Jensen Hueng']\n",
      " 0 | Bill Gates\n",
      " 1 | Elon Musk\n",
      " 2 | Mark Zukerberg\n",
      " 3 | Larry Ellison\n",
      " 4 | Jensen Hueng\n"
     ]
    }
   ],
   "source": [
    "# Print all items, using a while loop to go through all the index numbers\n",
    "ceo_names = [\"Bill Gates\",\"Elon Musk\",\"Mark Zukerberg\",\"Larry Ellison\",\"Jensen Hueng\"]\n",
    "i = 0\n",
    "print(\"Total Num of item are {0} is in the list {1}\".format(len(ceo_names),ceo_names))\n",
    "while i < len(ceo_names):\n",
    "    print(\" {0} | {1}\".format(i,ceo_names[i]))\n",
    "    i = i + 1"
   ]
  },
  {
   "cell_type": "markdown",
   "id": "823b26f6-2609-4a27-b7a5-78f6d4cff1ed",
   "metadata": {},
   "source": [
    "### Looping Using List Comprehension\n",
    "List Comprehension offers the shortest syntax for looping through lists: <br/>\n",
    "A short hand for loop that will print all items in a list:\n"
   ]
  },
  {
   "cell_type": "code",
   "execution_count": 38,
   "id": "ebc9f7b9-6b44-491f-9166-23a332b8a9ad",
   "metadata": {},
   "outputs": [
    {
     "name": "stdout",
     "output_type": "stream",
     "text": [
      "Start with Why\n",
      "Rich Dad & Poor Dad\n",
      "Zero to Hero\n",
      "Think & Grow Rich\n"
     ]
    },
    {
     "data": {
      "text/plain": [
       "[None, None, None, None]"
      ]
     },
     "execution_count": 38,
     "metadata": {},
     "output_type": "execute_result"
    }
   ],
   "source": [
    "books = [\"Start with Why\",\"Rich Dad & Poor Dad\",\"Zero to Hero\",\"Think & Grow Rich\"]\n",
    "[ print(book) for book in books]"
   ]
  },
  {
   "cell_type": "code",
   "execution_count": 41,
   "id": "f275f3c4-8d83-4563-9258-8b5e2ca19900",
   "metadata": {},
   "outputs": [
    {
     "name": "stdout",
     "output_type": "stream",
     "text": [
      " 0 - Start with Why \n",
      " 1 - Rich Dad & Poor Dad \n",
      " 2 - Zero to Hero \n",
      " 3 - Think & Grow Rich \n"
     ]
    },
    {
     "data": {
      "text/plain": [
       "[None, None, None, None]"
      ]
     },
     "execution_count": 41,
     "metadata": {},
     "output_type": "execute_result"
    }
   ],
   "source": [
    "[ print(\" {0} - {1} \".format(book_no,books[book_no])) for book_no in range(len(books))]"
   ]
  },
  {
   "cell_type": "markdown",
   "id": "d42c54e5-f5ad-4a5e-a7f8-1420d15c71b2",
   "metadata": {},
   "source": [
    "## Python - List Comprehension | [ReadMore](https://www.w3schools.com/python/python_lists_comprehension.asp)\n",
    "\n",
    "### List Comprehension\r\n",
    "List comprehension offers a shorter syntax when you want to create a new list based on the values of an existing list.\r\n",
    "\r\n",
    "Example:\r\n",
    "\r\n",
    "Based on a list of fruits, you want a new list, containing only the fruits with the letter \"a\" in the name.\r\n",
    "\r\n",
    "Without list comprehension you will have to write a for statement with a conditional test inside:"
   ]
  },
  {
   "cell_type": "markdown",
   "id": "23d680f5-e01f-41c4-a86c-a6de2359cdb7",
   "metadata": {},
   "source": [
    "## Python - Sort Lists\n",
    "\n",
    "### Sort List Alphanumerically\r\n",
    "List objects have a sort() method that will sort the list alphanumerically, ascending, by default:"
   ]
  },
  {
   "cell_type": "code",
   "execution_count": 48,
   "id": "c0e8e925-2708-4a12-b0c7-392f4365a266",
   "metadata": {},
   "outputs": [
    {
     "name": "stdout",
     "output_type": "stream",
     "text": [
      "Alphabetically Sorted :  ['Calcium', 'Iodine', 'Manganese', 'Potassium', 'Sodium', 'Sulfur', 'Zinc']\n"
     ]
    }
   ],
   "source": [
    "# sort the list alphabetically\n",
    "minerals = [\"Calcium\",\"Potassium\",\"Manganese\",\"Sodium\",\"Zinc\",\"Sulfur\",\"Iodine\"]\n",
    "minerals.sort()\n",
    "print(\"Alphabetically Sorted : \", minerals)"
   ]
  },
  {
   "cell_type": "markdown",
   "id": "d7634ff7-5923-4f34-afad-5fc5c197723a",
   "metadata": {},
   "source": [
    "### Sort the list numerically"
   ]
  },
  {
   "cell_type": "code",
   "execution_count": 3,
   "id": "401c7880-6893-47f8-9b19-9eccc5019aa0",
   "metadata": {},
   "outputs": [
    {
     "name": "stdout",
     "output_type": "stream",
     "text": [
      "Unsorted Numbers :  [100, 50, 65, 82, 23]\n",
      "Sorted Numbers :  [23, 50, 65, 82, 100]\n"
     ]
    }
   ],
   "source": [
    "# Sort the list numerically\n",
    "numbers = [100, 50, 65, 82, 23]\n",
    "print(\"Unsorted Numbers : \",numbers)\n",
    "numbers.sort()\n",
    "print(\"Sorted Numbers : \", numbers)"
   ]
  },
  {
   "cell_type": "markdown",
   "id": "e4293e0c-03d7-47cc-8cc8-7d9f2796585e",
   "metadata": {},
   "source": [
    "### Sort Descending\n",
    "To sort descending, use the keyword argument reverse = True:"
   ]
  },
  {
   "cell_type": "code",
   "execution_count": 7,
   "id": "39c9a7ac-1300-4354-912e-bcebf1c7ff5a",
   "metadata": {},
   "outputs": [
    {
     "name": "stdout",
     "output_type": "stream",
     "text": [
      "['pineapple', 'orange', 'mango', 'kiwi', 'banana']\n"
     ]
    }
   ],
   "source": [
    "thisfruits = [\"orange\", \"mango\", \"kiwi\", \"pineapple\", \"banana\"]\n",
    "thisfruits.sort(reverse = True)\n",
    "print(thislist)"
   ]
  },
  {
   "cell_type": "code",
   "execution_count": 4,
   "id": "6141e8b3-97b9-48eb-ab90-fe5f51f4195d",
   "metadata": {},
   "outputs": [
    {
     "name": "stdout",
     "output_type": "stream",
     "text": [
      "[100, 82, 65, 50, 23]\n"
     ]
    }
   ],
   "source": [
    "numbers.sort(reverse = True)\n",
    "print(numbers)"
   ]
  },
  {
   "cell_type": "markdown",
   "id": "d2815127-ab8b-4c0e-af37-d18450e37b2f",
   "metadata": {},
   "source": [
    "### Reverse Order\n",
    "What if you want to reverse the order of a list, regardless of the alphabet?\n",
    "\n",
    "The reverse() method reverses the current sorting order of the elements."
   ]
  },
  {
   "cell_type": "code",
   "execution_count": 10,
   "id": "9fea0161-d677-4e9f-a671-f0f1978e314c",
   "metadata": {},
   "outputs": [
    {
     "name": "stdout",
     "output_type": "stream",
     "text": [
      "Fruits List ['banana', 'kiwi', 'mango', 'orange', 'pineapple']\n",
      "Sorted Fruit List :  ['banana', 'kiwi', 'mango', 'orange', 'pineapple']\n",
      "Reversed Fruit List :  ['pineapple', 'orange', 'mango', 'kiwi', 'banana']\n"
     ]
    }
   ],
   "source": [
    "print(\"Fruits List\",thisfruits)\n",
    "thisfruits.sort()\n",
    "print(\"Sorted Fruit List : \",thisfruits)\n",
    "thisfruits.reverse()\n",
    "print(\"Reversed Fruit List : \",thisfruits)"
   ]
  },
  {
   "cell_type": "markdown",
   "id": "1c3475cb-0d27-41ed-91a2-4fb667599799",
   "metadata": {},
   "source": [
    "### Case Insensitive Sort\n",
    "\n",
    "By default the sort() method is case sensitive, resulting in all capital letters being sorted before lower case letters"
   ]
  },
  {
   "cell_type": "code",
   "execution_count": 14,
   "id": "a90fe896-3f08-47bc-af56-46cc8c66e29d",
   "metadata": {},
   "outputs": [
    {
     "name": "stdout",
     "output_type": "stream",
     "text": [
      "Case Sensitive Sorted List :  ['Kiwi', 'Orange', 'banana', 'cherry']\n",
      "Case Insensitive Sorted List : ['banana', 'cherry', 'Kiwi', 'Orange']\n"
     ]
    }
   ],
   "source": [
    "# Case sensitive sorting can give an unexpected result:\n",
    "thislist = [\"banana\", \"Orange\", \"Kiwi\", \"cherry\"]\n",
    "thislist.sort()\n",
    "print(\"Case Sensitive Sorted List : \", thislist)\n",
    "thislist.sort(key = str.lower)\n",
    "print(\"Case Insensitive Sorted List :\", thislist)"
   ]
  },
  {
   "cell_type": "markdown",
   "id": "4b50bab5-b2fa-422f-ae57-7b797e0b2e8f",
   "metadata": {},
   "source": [
    "## Python - Copy Lists\n",
    "\n",
    "You cannot copy a list simply by typing list2 = list1, because: list2 will only be a reference to list1, and changes made in list1 will automatically also be made in list2.\n",
    "\n",
    "There are ways to make a copy, one way is to use the built-in List method copy()."
   ]
  },
  {
   "cell_type": "code",
   "execution_count": 20,
   "id": "89c189ea-b617-4631-9506-ef883435684d",
   "metadata": {},
   "outputs": [
    {
     "name": "stdout",
     "output_type": "stream",
     "text": [
      "['apple', 'banana', 'cherry']\n",
      "thislist after adding mango ['apple', 'banana', 'cherry', 'mango']\n",
      "no changes made to  ['apple', 'banana', 'cherry']\n"
     ]
    }
   ],
   "source": [
    "## Make a copy of a list with the copy() method:\n",
    "thislist = [\"apple\", \"banana\", \"cherry\"]\n",
    "newlist  = thislist.copy()\n",
    "print(newlist)\n",
    "thislist.append(\"mango\")\n",
    "print(\"thislist after adding mango\", thislist)\n",
    "print(\"no changes made to \",newlist)\n",
    "\n"
   ]
  },
  {
   "cell_type": "markdown",
   "id": "1417479d-b6fb-42fb-8a1a-2e34b37083e2",
   "metadata": {},
   "source": [
    "> Another way to make a copy is to use the built-in method `list()`."
   ]
  },
  {
   "cell_type": "code",
   "execution_count": 24,
   "id": "a627cb7e-db11-4373-8f32-76d917889508",
   "metadata": {},
   "outputs": [
    {
     "name": "stdout",
     "output_type": "stream",
     "text": [
      "['brave', 'chrome', 'firefox']\n"
     ]
    }
   ],
   "source": [
    "# Make a copy of a list with the list() method:\n",
    "web_browser = [\"chrome\",\"firefox\",\"brave\"]\n",
    "web_browser.sort()\n",
    "sorted_browser_list = list(web_browser)\n",
    "print(sorted_browser_list)\n"
   ]
  },
  {
   "cell_type": "code",
   "execution_count": null,
   "id": "625854fb-6c81-4ffd-b927-0e3a511d5954",
   "metadata": {},
   "outputs": [],
   "source": []
  }
 ],
 "metadata": {
  "kernelspec": {
   "display_name": "Python 3 (ipykernel)",
   "language": "python",
   "name": "python3"
  },
  "language_info": {
   "codemirror_mode": {
    "name": "ipython",
    "version": 3
   },
   "file_extension": ".py",
   "mimetype": "text/x-python",
   "name": "python",
   "nbconvert_exporter": "python",
   "pygments_lexer": "ipython3",
   "version": "3.11.9"
  }
 },
 "nbformat": 4,
 "nbformat_minor": 5
}
