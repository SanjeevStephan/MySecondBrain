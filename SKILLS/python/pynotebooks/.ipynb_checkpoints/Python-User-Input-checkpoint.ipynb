{
 "cells": [
  {
   "cell_type": "markdown",
   "id": "ad1b8dac-c2a5-4a4c-83f4-86bb9f588695",
   "metadata": {},
   "source": [
    "# Python - User Input\n",
    "\n",
    "User Input\n",
    "Python allows for user input.\n",
    "\n",
    "That means we are able to ask the user for input.\n",
    "The following example asks for the username, and when you entered the username, it gets printed on the screen:"
   ]
  },
  {
   "cell_type": "code",
   "execution_count": 1,
   "id": "2ecfcbd2-ea3c-4d33-ae0d-10eaffbe10aa",
   "metadata": {},
   "outputs": [
    {
     "name": "stdin",
     "output_type": "stream",
     "text": [
      "Enter You Name :  Stephan\n"
     ]
    },
    {
     "name": "stdout",
     "output_type": "stream",
     "text": [
      "Hey Stephan, How are you doing \n"
     ]
    }
   ],
   "source": [
    "# python 3.6 \n",
    "username = input(\"Enter You Name : \")\n",
    "print(\"Hey {0}, How are you doing \".format(username))\n"
   ]
  },
  {
   "cell_type": "markdown",
   "id": "8291fead-6937-43e7-a015-8cfe02cbb9e6",
   "metadata": {},
   "source": [
    "#### 1.Write a Program to Enter 5 SuperCars Name that you want to Buy Someday\n",
    "Use the following lessions to test what you have learned.\n",
    "1. Create an empty list 'named' supercars\n",
    "2. Create a for loop of range 5\n",
    "3. ask the user to input the car name and store it in the loop\n",
    "4. finally print the length of the list and its content"
   ]
  },
  {
   "cell_type": "code",
   "execution_count": 27,
   "id": "ebacdf62-3b34-485c-9f21-84bbd44a2c1e",
   "metadata": {},
   "outputs": [
    {
     "name": "stdin",
     "output_type": "stream",
     "text": [
      "How many supercars you want to add to your garage :  2\n",
      "Enter the 0 Supercar you would buy :  lamborgini\n"
     ]
    },
    {
     "name": "stdout",
     "output_type": "stream",
     "text": [
      "You have Entered : lamborgini\n",
      "You have enterd 1 Supercars : ['lamborgini']\n"
     ]
    },
    {
     "name": "stdin",
     "output_type": "stream",
     "text": [
      "Enter the 1 Supercar you would buy :  ford GT\n"
     ]
    },
    {
     "name": "stdout",
     "output_type": "stream",
     "text": [
      "You have Entered : ford GT\n",
      "You have enterd 2 Supercars : ['lamborgini', 'ford GT']\n",
      "Total Supercars in your garage : 2\n",
      "Sorted in Alphabetical Order : ['ford GT', 'lamborgini']\n",
      "Supercar [ 0 ] : ford GT\n",
      "Supercar [ 1 ] : lamborgini\n"
     ]
    },
    {
     "name": "stdin",
     "output_type": "stream",
     "text": [
      "Do you want to Add New Car or Remove Any Car from your garage ('ADD' | 'REMOVE') : ADD\n",
      "Enter the New Supercar you want to add :  bmw\n"
     ]
    },
    {
     "name": "stdout",
     "output_type": "stream",
     "text": [
      "We have Added bmw to you Garage : ['bmw', 'ford GT', 'lamborgini'] \n"
     ]
    },
    {
     "name": "stdin",
     "output_type": "stream",
     "text": [
      "Do you want to Add New Car or Remove Any Car from your garage ('ADD' | 'REMOVE') : REMOVE\n",
      "Which car you want to 'REMOVE' ['bmw', 'ford GT', 'lamborgini'] :  bmw\n"
     ]
    },
    {
     "ename": "NameError",
     "evalue": "name 'askgain' is not defined",
     "output_type": "error",
     "traceback": [
      "\u001b[0;31m---------------------------------------------------------------------------\u001b[0m",
      "\u001b[0;31mNameError\u001b[0m                                 Traceback (most recent call last)",
      "Cell \u001b[0;32mIn[27], line 57\u001b[0m\n\u001b[1;32m     55\u001b[0m add_supercars()\n\u001b[1;32m     56\u001b[0m list_cars()\n\u001b[0;32m---> 57\u001b[0m \u001b[43mmanage_cars\u001b[49m\u001b[43m(\u001b[49m\u001b[43m)\u001b[49m\n\u001b[1;32m     58\u001b[0m remove_last()\n",
      "Cell \u001b[0;32mIn[27], line 33\u001b[0m, in \u001b[0;36mmanage_cars\u001b[0;34m()\u001b[0m\n\u001b[1;32m     31\u001b[0m \u001b[38;5;28;01mwhile\u001b[39;00m \u001b[38;5;28;01mTrue\u001b[39;00m:\n\u001b[1;32m     32\u001b[0m     askagain \u001b[38;5;241m=\u001b[39m \u001b[38;5;28minput\u001b[39m(\u001b[38;5;124m\"\u001b[39m\u001b[38;5;124mWhich car you want to \u001b[39m\u001b[38;5;124m'\u001b[39m\u001b[38;5;124mREMOVE\u001b[39m\u001b[38;5;124m'\u001b[39m\u001b[38;5;124m \u001b[39m\u001b[38;5;132;01m{0}\u001b[39;00m\u001b[38;5;124m : \u001b[39m\u001b[38;5;124m\"\u001b[39m\u001b[38;5;241m.\u001b[39mformat(supercars))\n\u001b[0;32m---> 33\u001b[0m     \u001b[38;5;28;01mif\u001b[39;00m \u001b[43maskgain\u001b[49m \u001b[38;5;241m==\u001b[39m supercars[askagain]:\n\u001b[1;32m     34\u001b[0m         supercars\u001b[38;5;241m.\u001b[39mremove(askagain)\n\u001b[1;32m     35\u001b[0m         \u001b[38;5;28mprint\u001b[39m(\u001b[38;5;124m\"\u001b[39m\u001b[38;5;124mYou have Total \u001b[39m\u001b[38;5;132;01m{0}\u001b[39;00m\u001b[38;5;124m Supercars Left in your Garage \u001b[39m\u001b[38;5;124m\"\u001b[39m\u001b[38;5;241m.\u001b[39mformat(\u001b[38;5;28mlen\u001b[39m(supercars)))\n",
      "\u001b[0;31mNameError\u001b[0m: name 'askgain' is not defined"
     ]
    }
   ],
   "source": [
    "# Python Program - 01\n",
    "supercars = []\n",
    "# Program to Collect 4 Supercars for your Garage.\n",
    "def add_supercars():\n",
    "    askhowmany = int(input(\"How many supercars you want to add to your garage : \"))\n",
    "    for i in range(askhowmany):\n",
    "        askuser = input(\"Enter the {0} Supercar you would buy : \".format(i))\n",
    "        supercars.insert(i,askuser)\n",
    "        print(\"You have Entered : {0}\".format(askuser))\n",
    "        print(\"You have enterd {0} Supercars : {1}\".format(len(supercars), supercars))\n",
    "\n",
    "def list_cars():\n",
    "    # Sort the supercars that you collected to sort in alpahbetical order.\n",
    "    if len(supercars) > 0 : \n",
    "        supercars.sort(key = str.lower)\n",
    "        print(\"Total Supercars in your garage : {0}\".format(len(supercars)))\n",
    "        print(\"Sorted in Alphabetical Order : {0}\".format(supercars))\n",
    "    for i in range(len(supercars)):\n",
    "        print(\"Supercar [ {0} ] : {1}\".format(i,supercars[i]))\n",
    "\n",
    "# ask the user if they want to remove or add any car from their garage\n",
    "def manage_cars():\n",
    "    while True:\n",
    "        askuser = input(\"Do you want to Add New Car or Remove Any Car from your garage ('ADD' | 'REMOVE') :\")\n",
    "        if askuser == 'ADD' :\n",
    "            addsupercar = input(\"Enter the New Supercar you want to add : \")\n",
    "            supercars.append(addsupercar)\n",
    "            supercars.sort()\n",
    "            print(\"We have Added {0} to you Garage : {1} \".format(addsupercar,supercars))\n",
    "        else:\n",
    "            while True:\n",
    "                aksagain = \"\"\n",
    "                askagain = input(\"Which car you want to 'REMOVE' {0} : \".format(supercars))\n",
    "                if askgain == supercars[askagain]:\n",
    "                    supercars.remove(askagain)\n",
    "                    print(\"You have Total {0} Supercars Left in your Garage \".format(len(supercars)))\n",
    "                else:\n",
    "                    print(\"cool..your supercars are safe\")\n",
    "                    break\n",
    "            list_cars()\n",
    "            break\n",
    "\n",
    "def remove_last():\n",
    "    list_cars()\n",
    "    while True:\n",
    "        askuser = input(\"Press 'y' to remove last car or 'e' to exit :\")\n",
    "        if askuser == 'y':\n",
    "            supercars.pop()\n",
    "            list_cars()\n",
    "        else:\n",
    "            print(\"Exiting Now, shh..your supercars are safe\")\n",
    "            list_cars()\n",
    "            break\n",
    "\n",
    "\n",
    "add_supercars()\n",
    "list_cars()\n",
    "manage_cars()\n",
    "remove_last()"
   ]
  },
  {
   "cell_type": "markdown",
   "id": "0f156f8a-1cec-431c-9c83-b5e18205057d",
   "metadata": {},
   "source": []
  },
  {
   "cell_type": "code",
   "execution_count": null,
   "id": "f07e39a8-770c-49ae-aef3-c4ca06e163d1",
   "metadata": {},
   "outputs": [],
   "source": []
  }
 ],
 "metadata": {
  "kernelspec": {
   "display_name": "Python 3 (ipykernel)",
   "language": "python",
   "name": "python3"
  },
  "language_info": {
   "codemirror_mode": {
    "name": "ipython",
    "version": 3
   },
   "file_extension": ".py",
   "mimetype": "text/x-python",
   "name": "python",
   "nbconvert_exporter": "python",
   "pygments_lexer": "ipython3",
   "version": "3.11.9"
  }
 },
 "nbformat": 4,
 "nbformat_minor": 5
}
