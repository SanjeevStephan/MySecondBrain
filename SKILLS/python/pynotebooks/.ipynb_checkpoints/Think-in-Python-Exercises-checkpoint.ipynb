{
 "cells": [
  {
   "cell_type": "markdown",
   "id": "0d91088e-46a7-4915-a8ff-82d7bc6de219",
   "metadata": {},
   "source": [
    "## 1.12 Exercises"
   ]
  },
  {
   "cell_type": "markdown",
   "id": "29e31d37-b6ab-42b8-8931-1b680a3d924a",
   "metadata": {},
   "source": [
    " 1.  Write Your First Program in Python"
   ]
  },
  {
   "cell_type": "code",
   "execution_count": 10,
   "id": "2458c088-5189-4c8f-8392-accfde7195cd",
   "metadata": {},
   "outputs": [
    {
     "name": "stdout",
     "output_type": "stream",
     "text": [
      "Hello, World!\n"
     ]
    }
   ],
   "source": [
    "## Exercies - 1.12.1\n",
    "print(\"Hello, World!\")"
   ]
  },
  {
   "cell_type": "markdown",
   "id": "eabc84a4-5be5-4a83-be46-633bef475133",
   "metadata": {},
   "source": [
    "2. Using the Python interpreter, type 1 + 2 and then hit return. Python evaluates this expression, displays the result, and then shows another prompt. * is the multiplication operator, and ** is the exponentiation operator. <br/>\n",
    "Experiment by entering different expressions and recording what is displayed by the Python interpreter."
   ]
  },
  {
   "cell_type": "code",
   "execution_count": 4,
   "id": "608a8ed8-0ac3-4185-87d9-a9aaf2bc7a44",
   "metadata": {},
   "outputs": [
    {
     "data": {
      "text/plain": [
       "3"
      ]
     },
     "execution_count": 4,
     "metadata": {},
     "output_type": "execute_result"
    }
   ],
   "source": [
    "1 + 2"
   ]
  },
  {
   "cell_type": "markdown",
   "id": "fa6d686d-9a2a-4e2f-81f5-8f522c2ab5fe",
   "metadata": {},
   "source": [
    "3. Type 1 2 and then hit return. Python tries to evaluate the expression, but it can’t because the expression is not\n",
    "syntactically legal. Instead, it shows the error message"
   ]
  },
  {
   "cell_type": "code",
   "execution_count": 42,
   "id": "599d37e3-e7d6-4d30-b729-58b78385e949",
   "metadata": {},
   "outputs": [
    {
     "ename": "SyntaxError",
     "evalue": "invalid syntax (1342005256.py, line 2)",
     "output_type": "error",
     "traceback": [
      "\u001b[0;36m  Cell \u001b[0;32mIn[42], line 2\u001b[0;36m\u001b[0m\n\u001b[0;31m    1 2\u001b[0m\n\u001b[0m      ^\u001b[0m\n\u001b[0;31mSyntaxError\u001b[0m\u001b[0;31m:\u001b[0m invalid syntax\n"
     ]
    }
   ],
   "source": [
    "#  Exercies - 1.12.3 | SOLVED\n",
    "1 2"
   ]
  },
  {
   "cell_type": "markdown",
   "id": "baf79a39-bcc8-4bb8-a84f-97c63f8c1d50",
   "metadata": {},
   "source": [
    "> In many cases, Python indicates where the syntax error occurred, but it is not always right, and it doesn’t give\n",
    "you much information about what is wrong.\n",
    "So, for the most part, the burden is on you to learn the syntax rules.\n",
    "In this case, Python is complaining because there is no operator between the numbers.\n",
    "See if you can find a few more examples of things that will produce error messages when you enter them at\n",
    "the Python prompt. <br/> Write down what you enter at the prompt and the last line of the error message that Python\n",
    "reports back to you."
   ]
  },
  {
   "cell_type": "markdown",
   "id": "041e88e0-d6f0-4f8c-b4d0-c74110ba7f3c",
   "metadata": {},
   "source": [
    "4. Type print(\"hello\"). Python executes this, which has the effect of printing the letters h-e-l-l-o. Notice\n",
    "that the quotation marks that you used to enclose the string are not part of the output"
   ]
  },
  {
   "cell_type": "code",
   "execution_count": 43,
   "id": "e4a5bc40-6e87-455e-bdfb-6a919876ce5d",
   "metadata": {},
   "outputs": [
    {
     "name": "stdout",
     "output_type": "stream",
     "text": [
      "hello\n"
     ]
    }
   ],
   "source": [
    "#  Exercies - 1.12.4 | SOLVED\n",
    "print(\"hello\")"
   ]
  },
  {
   "cell_type": "markdown",
   "id": "9f76344f-c022-4960-a66a-1427f50890f3",
   "metadata": {},
   "source": [
    "5. Type cheese without the quotation marks. The output will look something like this:"
   ]
  },
  {
   "cell_type": "code",
   "execution_count": 44,
   "id": "92430731-03e4-4582-b2a1-09a3eb5f750a",
   "metadata": {},
   "outputs": [
    {
     "ename": "NameError",
     "evalue": "name 'cheese' is not defined",
     "output_type": "error",
     "traceback": [
      "\u001b[0;31m---------------------------------------------------------------------------\u001b[0m",
      "\u001b[0;31mNameError\u001b[0m                                 Traceback (most recent call last)",
      "Cell \u001b[0;32mIn[44], line 2\u001b[0m\n\u001b[1;32m      1\u001b[0m \u001b[38;5;66;03m##  Exercies - 1.12.5 | SOLVED\u001b[39;00m\n\u001b[0;32m----> 2\u001b[0m \u001b[43mcheese\u001b[49m\n",
      "\u001b[0;31mNameError\u001b[0m: name 'cheese' is not defined"
     ]
    }
   ],
   "source": [
    "##  Exercies - 1.12.5 | SOLVED\n",
    "cheese"
   ]
  },
  {
   "cell_type": "markdown",
   "id": "71a68a72-e686-4dd2-b084-33b0ee91e7cb",
   "metadata": {},
   "source": [
    "> This is a run-time error; specifically, it is a NameError, and even more specifically, it is an error because the\n",
    "name cheese is not defined. If you don’t know what that means yet, you will soon."
   ]
  },
  {
   "cell_type": "markdown",
   "id": "ec2de378-2709-4571-b7b2-b1abeff7126a",
   "metadata": {},
   "source": [
    "## 2.14 Exercises"
   ]
  },
  {
   "cell_type": "markdown",
   "id": "0b842359-5653-40b4-b63b-00030b1e9c8f",
   "metadata": {},
   "source": [
    "1. Take the sentence: `All work and no play makes Jack a dull boy`. Store each word in a separate variable, then\n",
    "print out the sentence on one line using print"
   ]
  },
  {
   "cell_type": "code",
   "execution_count": 45,
   "id": "dfb0133a-e1df-400d-8e80-4fc3cff4b673",
   "metadata": {},
   "outputs": [
    {
     "name": "stdout",
     "output_type": "stream",
     "text": [
      "Without Space : AllandnoplaymakesJackadullboy\n",
      "With Space : All and no play makes Jack a dull boy\n"
     ]
    }
   ],
   "source": [
    "#  Exercies - 2.14.1 | SOLVED\n",
    "#  Case-1 : Unprofessional Coding\n",
    "var1 = 'All'\n",
    "var2 = 'Work'\n",
    "var2 = 'and'\n",
    "var3 = 'no'\n",
    "var4 = 'play'\n",
    "var5 = 'makes'\n",
    "var6 = 'Jack'\n",
    "var7 = 'a'\n",
    "var8 = 'dull'\n",
    "var9 = 'boy'\n",
    "\n",
    "print(\"Without Space : \" + var1+var2+var3+var4+var5+var6+var7+var8+var9)\n",
    "print(\"With Space : \" + var1 + ' ' + var2 + ' ' + var3 + ' ' + var4 + ' ' + var5 + ' ' + var6 + ' ' + var7 + ' ' + var8 + ' ' + var9)\n"
   ]
  },
  {
   "cell_type": "code",
   "execution_count": 46,
   "id": "38ec42c1-6985-4ad9-bbb8-71ee7d338cad",
   "metadata": {},
   "outputs": [
    {
     "name": "stdout",
     "output_type": "stream",
     "text": [
      "Using For Loop :  All Work and no play makes Jack a dull boy "
     ]
    }
   ],
   "source": [
    "# Case-2 : Professional Coding | SOLVED\n",
    "one_statement = ['All','Work','and','no','play','makes','Jack','a','dull','boy'] # this is list()\n",
    "print(\"Using For Loop : \", end = \" \") \n",
    "for one_word in one_statement:\n",
    "    print(one_word, end= \" \")  # this will print it in the same line \n",
    "    "
   ]
  },
  {
   "cell_type": "markdown",
   "id": "2f748e89-281f-48d3-9ff9-b0c52033553f",
   "metadata": {},
   "source": [
    "2. Add parenthesis to the expression 6 * 1 - 2 to change its value from 4 to -6."
   ]
  },
  {
   "cell_type": "code",
   "execution_count": 47,
   "id": "a09a3e4b-cbcc-49a6-bd92-3558480cec63",
   "metadata": {},
   "outputs": [
    {
     "name": "stdout",
     "output_type": "stream",
     "text": [
      "5\n",
      "5\n"
     ]
    }
   ],
   "source": [
    "# Exercise - 2.14.2 | UNSOLVED\n",
    "# Case - 1  |  \n",
    "# ERROR : NOT-WORKING AS EXPECTED\n",
    "print(6 + 1 - 2)\n",
    "print(6 + (1 - 2 ))"
   ]
  },
  {
   "cell_type": "markdown",
   "id": "a9753431-b656-4e6a-ae6a-eeea0f6b3c7e",
   "metadata": {},
   "source": [
    "3. Place a comment before a line of code that previously worked, and record what happens when you rerun the program."
   ]
  },
  {
   "cell_type": "code",
   "execution_count": 36,
   "id": "e47d20d0-ce18-45e5-80d1-a24b9b9f914a",
   "metadata": {},
   "outputs": [
    {
     "name": "stdout",
     "output_type": "stream",
     "text": [
      "YOu are seeing this text now\n"
     ]
    }
   ],
   "source": [
    "# Exercise - 2.14.3 | SOLVED\n",
    "print(\"YOu are seeing this text now\")\n",
    "# print(\"You cannot see this text because it's commented now\")"
   ]
  },
  {
   "cell_type": "markdown",
   "id": "103b1db4-77fd-4657-a8a3-6d19a69e917e",
   "metadata": {},
   "source": [
    "4. Start the Python interpreter and enter `bruce + 4` at the prompt. This will give you an error\n",
    "    ```python\n",
    "    NameError: name 'bruce' is not defined\n",
    "    ```\n",
    "    Assign a value to bruce so that `bruce + 4` evaluates to `10`."
   ]
  },
  {
   "cell_type": "code",
   "execution_count": 38,
   "id": "1bc1e673-7863-4841-993e-9ec87362d261",
   "metadata": {},
   "outputs": [
    {
     "ename": "TypeError",
     "evalue": "can only concatenate str (not \"int\") to str",
     "output_type": "error",
     "traceback": [
      "\u001b[0;31m---------------------------------------------------------------------------\u001b[0m",
      "\u001b[0;31mTypeError\u001b[0m                                 Traceback (most recent call last)",
      "Cell \u001b[0;32mIn[38], line 2\u001b[0m\n\u001b[1;32m      1\u001b[0m \u001b[38;5;66;03m# Exercise - 2.14.4\u001b[39;00m\n\u001b[0;32m----> 2\u001b[0m \u001b[38;5;28mprint\u001b[39m(\u001b[38;5;124;43m'\u001b[39;49m\u001b[38;5;124;43mbruce\u001b[39;49m\u001b[38;5;124;43m'\u001b[39;49m\u001b[43m \u001b[49m\u001b[38;5;241;43m+\u001b[39;49m\u001b[43m \u001b[49m\u001b[38;5;241;43m4\u001b[39;49m)\n",
      "\u001b[0;31mTypeError\u001b[0m: can only concatenate str (not \"int\") to str"
     ]
    }
   ],
   "source": [
    "# Exercise - 2.14.4 | SOLVED\n",
    "print('bruce' + 4)"
   ]
  },
  {
   "cell_type": "code",
   "execution_count": 41,
   "id": "6989fbba-efa0-4fe9-b738-db8964d694a4",
   "metadata": {},
   "outputs": [
    {
     "name": "stdout",
     "output_type": "stream",
     "text": [
      "10\n"
     ]
    }
   ],
   "source": [
    "## Now Assign a value to bruce so that `bruce + 4` evaluates to `10`.\n",
    "bruce = 6\n",
    "print(bruce + 4)"
   ]
  },
  {
   "attachments": {
    "369a7ea3-01e6-484e-853a-1e16686b83e6.png": {
     "image/png": "[encoded data removed]"
    }
   },
   "cell_type": "markdown",
   "id": "e87faf47-2ebe-4063-bb4c-045a5c04e150",
   "metadata": {},
   "source": [
    "5. he formula for computing the final amount if one is earning compound interest is given on Wikipedia as\n",
    "![image.png](attachment:369a7ea3-01e6-484e-853a-1e16686b83e6.png) <br/>\n",
    "Here, P is the principal amount (the amount that the interest is provided on), n the frequency that the interest\n",
    "is paid out (per year), and r the interest rate. The number of years that the interest is calculated for is t. Write\n",
    "a program that replaces these letters with something a bit more human-readable, and calculate the interest for\n",
    "some varying amounts of money at realistic interest rates such as 1%, and -0.05%. When you have that working,\n",
    "ask the user for the value of some of these variables and do the calculation"
   ]
  },
  {
   "cell_type": "code",
   "execution_count": 50,
   "id": "c42a919f-5205-4d46-8e7f-a0499ac029c8",
   "metadata": {},
   "outputs": [],
   "source": [
    "# Exercise - 2.14.5 | UNSOLVED"
   ]
  },
  {
   "cell_type": "markdown",
   "id": "017cd936-315d-485b-add9-f4d048dc4de6",
   "metadata": {},
   "source": [
    "6. Evaluate the following numerical expressions in your head, then use the Python interpreter to check your results:\n",
    "```javascript\n",
    "1. 5 % 2\n",
    "2. 9 % 5\n",
    "3. 15 % 12\n",
    "4. 12 % 15\n",
    "5. 6 % 6\n",
    "6. 0 % 7\n",
    "7. 7 % 0\n",
    "```\n",
    "What happened with the last example? Why? If you were able to correctly anticipate the computer’s response\n",
    "in all but the last one, it is time to move on. If not, take time now to make up examples of your own. Explore\n",
    "the modulus operator until you are confident you understand how it works."
   ]
  },
  {
   "cell_type": "markdown",
   "id": "786cc670-e152-404d-b036-e803fad0f490",
   "metadata": {},
   "source": [
    "7. You look at the clock and it is exactly 2pm. You set an alarm to go off in 51 hours. At what time does the alarm\n",
    "go off? (Hint: you could count on your fingers, but this is not what we’re after. If you are tempted to count on\n",
    "your fingers, change the 51 to 5100.)"
   ]
  },
  {
   "cell_type": "markdown",
   "id": "e24758cf-472f-4b5d-ac64-afb2db903cdf",
   "metadata": {},
   "source": [
    "8. Write a Python program to solve the general version of the above problem. Ask the user for the time now (in\n",
    "hours), and ask for the number of hours to wait. Your program should output what the time will be on the clock\n",
    "when the alarm goes off."
   ]
  },
  {
   "cell_type": "code",
   "execution_count": null,
   "id": "beba95fa-3678-4447-81f1-7a40b66be5db",
   "metadata": {},
   "outputs": [],
   "source": []
  }
 ],
 "metadata": {
  "kernelspec": {
   "display_name": "Python 3 (ipykernel)",
   "language": "python",
   "name": "python3"
  },
  "language_info": {
   "codemirror_mode": {
    "name": "ipython",
    "version": 3
   },
   "file_extension": ".py",
   "mimetype": "text/x-python",
   "name": "python",
   "nbconvert_exporter": "python",
   "pygments_lexer": "ipython3",
   "version": "3.11.9"
  }
 },
 "nbformat": 4,
 "nbformat_minor": 5
}
