{
 "cells": [
  {
   "cell_type": "code",
   "execution_count": 3,
   "id": "78013668-52f3-446a-b07a-eff8b804e543",
   "metadata": {},
   "outputs": [
    {
     "ename": "AttributeError",
     "evalue": "'Turtle' object has no attribute 'formward'",
     "output_type": "error",
     "traceback": [
      "\u001b[1;31m---------------------------------------------------------------------------\u001b[0m",
      "\u001b[1;31mAttributeError\u001b[0m                            Traceback (most recent call last)",
      "Cell \u001b[1;32mIn[3], line 5\u001b[0m\n\u001b[0;32m      3\u001b[0m window \u001b[38;5;241m=\u001b[39m turtle\u001b[38;5;241m.\u001b[39mScreen()\n\u001b[0;32m      4\u001b[0m alex \u001b[38;5;241m=\u001b[39m turtle\u001b[38;5;241m.\u001b[39mTurtle()\n\u001b[1;32m----> 5\u001b[0m \u001b[43malex\u001b[49m\u001b[38;5;241;43m.\u001b[39;49m\u001b[43mformward\u001b[49m(\u001b[38;5;241m90\u001b[39m)\n\u001b[0;32m      6\u001b[0m window\u001b[38;5;241m.\u001b[39mmainloop()\n",
      "\u001b[1;31mAttributeError\u001b[0m: 'Turtle' object has no attribute 'formward'"
     ]
    }
   ],
   "source": [
    "import turtle\n",
    "\n",
    "window = turtle.Screen()\n",
    "alex = turtle.Turtle()\n",
    "alex.forward(90)\n",
    "window.mainloop()"
   ]
  },
  {
   "cell_type": "code",
   "execution_count": null,
   "id": "33d26c4b-bbc3-4091-b6cf-683cd10a78ef",
   "metadata": {},
   "outputs": [],
   "source": []
  }
 ],
 "metadata": {
  "kernelspec": {
   "display_name": "Python 3 (ipykernel)",
   "language": "python",
   "name": "python3"
  },
  "language_info": {
   "codemirror_mode": {
    "name": "ipython",
    "version": 3
   },
   "file_extension": ".py",
   "mimetype": "text/x-python",
   "name": "python",
   "nbconvert_exporter": "python",
   "pygments_lexer": "ipython3",
   "version": "3.12.4"
  }
 },
 "nbformat": 4,
 "nbformat_minor": 5
}
