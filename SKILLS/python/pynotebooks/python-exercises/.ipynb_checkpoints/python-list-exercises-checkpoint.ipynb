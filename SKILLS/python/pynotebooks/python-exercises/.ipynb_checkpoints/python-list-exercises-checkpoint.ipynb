{
 "cells": [
  {
   "cell_type": "markdown",
   "id": "283657f2-4410-470a-8ac4-fa4c98375559",
   "metadata": {},
   "source": [
    "## Python List Exercises"
   ]
  },
  {
   "cell_type": "markdown",
   "id": "91bae893-3727-4c5f-9224-d6381e6f621a",
   "metadata": {},
   "source": [
    "### Execise - 1 \n",
    "Python program to interchange first and last elemens in a list"
   ]
  },
  {
   "cell_type": "markdown",
   "id": "bc5b81ac-a936-4104-b9a0-5fe509c2facc",
   "metadata": {},
   "source": [
    "#### Solution for Exercises - 1\n",
    "Approach #1: Find the length of the list using `len()` and simply swap the first element with (n-1)th element."
   ]
  },
  {
   "cell_type": "code",
   "execution_count": 8,
   "id": "3116805f-40db-4425-ae18-95a19803be4e",
   "metadata": {},
   "outputs": [
    {
     "name": "stdout",
     "output_type": "stream",
     "text": [
      "List before Swaping: [34, 1, 74, 24, 22, 15, 63, 57]\n",
      "List After Swaping: [57, 1, 74, 24, 22, 15, 63, 34]\n"
     ]
    }
   ],
   "source": [
    "# Python Program to swap first and last element of a list.\n",
    "\n",
    "# swap function\n",
    "def swap_first_with_last(input_list):\n",
    "    size = len(input_list)\n",
    "    print(f\"List before Swaping: {input_list}\")\n",
    "\n",
    "    # swapping\n",
    "    temp_item = input_list[0]\n",
    "    input_list[0] = input_list[size-1]\n",
    "    input_list[size-1] = temp_item\n",
    "    print(f\"List After Swaping: {input_list}\")\n",
    "\n",
    "\n",
    "demo_list = [34,1,74,24,22,15,63,57]\n",
    "swap_first_with_last(demo_list)"
   ]
  },
  {
   "cell_type": "markdown",
   "id": "14d0e5ec-d6d3-453c-a030-48e2d002f5ec",
   "metadata": {},
   "source": [
    "#### Approach #2 \n",
    "The last element of the list can be referred as list[-1]. Therefore, we can simply swap list[0] with list[-1]."
   ]
  },
  {
   "cell_type": "code",
   "execution_count": 11,
   "id": "ecbd0412-1441-4511-b86c-5db0adb627ca",
   "metadata": {},
   "outputs": [],
   "source": [
    "def simply_swap_list_item(input_list):\n",
    "    input_list[0],input_list[-1] = input_list[-1],input_list[0]\n",
    "    return input_list\n",
    "\n"
   ]
  },
  {
   "cell_type": "code",
   "execution_count": 12,
   "id": "d39d8e7b-390b-49f7-8f0a-c04e56fd0bd8",
   "metadata": {},
   "outputs": [
    {
     "name": "stdout",
     "output_type": "stream",
     "text": [
      "Swapped List Items : [57, 1, 74, 24, 22, 15, 63, 34]\n",
      "Original List [1, 15, 22, 24, 34, 57, 63, 74]\n",
      "Reverse  List [34, 63, 15, 22, 24, 74, 1, 57]\n",
      "Sorted   List None\n"
     ]
    }
   ],
   "source": [
    "initial_list = [34,1,74,24,22,15,63,57]\n",
    "print(f\"Original List {initial_list}\")\n",
    "\n",
    "print(f\"Swapped List Items : {simply_swap_list_item(initial_list)}\")\n",
    "\n",
    "reverse_list = initial_list[::-1]\n",
    "sorted_list  = initial_list.sort()\n",
    "\n",
    "print(f\"Reverse  List {reverse_list}\")\n",
    "print(f\"Sorted   List {sorted_list}\")"
   ]
  },
  {
   "cell_type": "code",
   "execution_count": null,
   "id": "87e76651-f2cf-4755-bc1c-66aad0f67c2f",
   "metadata": {},
   "outputs": [],
   "source": []
  }
 ],
 "metadata": {
  "kernelspec": {
   "display_name": "Python 3 (ipykernel)",
   "language": "python",
   "name": "python3"
  },
  "language_info": {
   "codemirror_mode": {
    "name": "ipython",
    "version": 3
   },
   "file_extension": ".py",
   "mimetype": "text/x-python",
   "name": "python",
   "nbconvert_exporter": "python",
   "pygments_lexer": "ipython3",
   "version": "3.11.9"
  }
 },
 "nbformat": 4,
 "nbformat_minor": 5
}
